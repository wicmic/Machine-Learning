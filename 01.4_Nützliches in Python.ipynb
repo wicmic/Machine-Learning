{
 "cells": [
  {
   "cell_type": "markdown",
   "metadata": {},
   "source": [
    "# Nützliches für Machine Leaning in Python II\n",
    "\n",
    "\n",
    "\n"
   ]
  },
  {
   "cell_type": "markdown",
   "metadata": {},
   "source": [
    "## Numpy Where"
   ]
  },
  {
   "cell_type": "code",
   "execution_count": 18,
   "metadata": {},
   "outputs": [],
   "source": [
    "import numpy as np"
   ]
  },
  {
   "cell_type": "code",
   "execution_count": 19,
   "metadata": {},
   "outputs": [
    {
     "data": {
      "text/plain": "array([1, 2])"
     },
     "execution_count": 19,
     "metadata": {},
     "output_type": "execute_result"
    }
   ],
   "source": [
    "# Erstes Argument: beliebige n langes Array von True / False\n",
    "# Zweites und Drittes Argument: Arrays mit Länge 1 bis max. n.\n",
    "np.where([True, True], [1,2], [3,4])"
   ]
  },
  {
   "cell_type": "code",
   "execution_count": 20,
   "outputs": [
    {
     "data": {
      "text/plain": "array([1, 4])"
     },
     "execution_count": 20,
     "metadata": {},
     "output_type": "execute_result"
    }
   ],
   "source": [
    "np.where([True, False], [1,2], [3,4])"
   ],
   "metadata": {
    "collapsed": false
   }
  },
  {
   "cell_type": "code",
   "execution_count": 21,
   "metadata": {},
   "outputs": [
    {
     "data": {
      "text/plain": "array([10,  2, 30,  4])"
     },
     "execution_count": 21,
     "metadata": {},
     "output_type": "execute_result"
    }
   ],
   "source": [
    "np.where([True, False, True, False], [10,20,30, 40],[1,2,3,4])"
   ]
  },
  {
   "cell_type": "code",
   "execution_count": 22,
   "metadata": {},
   "outputs": [
    {
     "data": {
      "text/plain": "array([   0, 2000,    0])"
     },
     "execution_count": 22,
     "metadata": {},
     "output_type": "execute_result"
    }
   ],
   "source": [
    "# Das geht auch nur mit einem Eintrag beim 2. u. dritten Argument. \n",
    "np.where([True, False, True], [0], [1000, 2000, 3000])"
   ]
  },
  {
   "cell_type": "code",
   "execution_count": 23,
   "metadata": {},
   "outputs": [
    {
     "data": {
      "text/plain": "array([1, 1, 1, 0, 0, 0])"
     },
     "execution_count": 23,
     "metadata": {},
     "output_type": "execute_result"
    }
   ],
   "source": [
    "#sieht ziemlich binär aus:\n",
    "np.where(np.array([1,2,3,4,5,6]) < 4, [1], [0])"
   ]
  },
  {
   "cell_type": "code",
   "execution_count": 24,
   "metadata": {},
   "outputs": [
    {
     "data": {
      "text/plain": "array([False,  True, False])"
     },
     "execution_count": 24,
     "metadata": {},
     "output_type": "execute_result"
    }
   ],
   "source": [
    "np.where([True, False, True], [False], [True])"
   ]
  },
  {
   "cell_type": "code",
   "execution_count": 25,
   "metadata": {},
   "outputs": [
    {
     "data": {
      "text/plain": "array([False,  True,  True,  True,  True,  True, False])"
     },
     "execution_count": 25,
     "metadata": {},
     "output_type": "execute_result"
    }
   ],
   "source": [
    "np.where([True, False, False, False, False, False, True], [False], [True])"
   ]
  },
  {
   "cell_type": "code",
   "execution_count": 26,
   "metadata": {},
   "outputs": [
    {
     "data": {
      "text/plain": "array([ True,  True,  True, False, False, False])"
     },
     "execution_count": 26,
     "metadata": {},
     "output_type": "execute_result"
    }
   ],
   "source": [
    "#Auf Numpy-Array kann man ja Operatoren anwenden (s. oben)...\n",
    "np.array([1,2,3,4,5,6]) < 4"
   ]
  },
  {
   "cell_type": "code",
   "execution_count": 27,
   "metadata": {},
   "outputs": [
    {
     "data": {
      "text/plain": "array([False,  True,  True,  True,  True,  True, False])"
     },
     "execution_count": 27,
     "metadata": {},
     "output_type": "execute_result"
    }
   ],
   "source": [
    "np.array([True, False, False, False, False, False, True]) == False"
   ]
  },
  {
   "cell_type": "code",
   "execution_count": 28,
   "metadata": {},
   "outputs": [
    {
     "data": {
      "text/plain": "array(['nicht bestanden', 'nicht bestanden', 'nicht bestanden',\n       'bestanden', 'bestanden', 'bestanden'], dtype='<U15')"
     },
     "execution_count": 28,
     "metadata": {},
     "output_type": "execute_result"
    }
   ],
   "source": [
    "#das kann man dann mit where kombinieren:\n",
    "np.where(np.array([1,2,3,4,5,6]) >= 4, [\"bestanden\"], [\"nicht bestanden\"])"
   ]
  },
  {
   "cell_type": "code",
   "execution_count": 29,
   "metadata": {},
   "outputs": [
    {
     "data": {
      "text/plain": "array([1, 1, 1, 1, 0])"
     },
     "execution_count": 29,
     "metadata": {},
     "output_type": "execute_result"
    }
   ],
   "source": [
    "#oder auch anders herum:\n",
    "np.where(np.array([\"sehr-gut\",\"gut\",\"befriedigend\",\"ausreichend\",\"nicht-bestanden\"]) == \"nicht-bestanden\", [0], [1])"
   ]
  },
  {
   "cell_type": "code",
   "execution_count": 30,
   "metadata": {},
   "outputs": [
    {
     "data": {
      "text/plain": "       carat        cut color clarity  depth  table  price     x     y     z\n28      0.23  Very Good     D     VS2   60.5   61.0    357  3.96  3.97  2.40\n34      0.23  Very Good     D     VS1   61.9   58.0    402  3.92  3.96  2.44\n38      0.26  Very Good     D     VS2   60.8   59.0    403  4.13  4.16  2.52\n42      0.26       Good     D     VS2   65.2   56.0    403  3.99  4.02  2.61\n43      0.26       Good     D     VS1   58.4   63.0    403  4.19  4.24  2.46\n...      ...        ...   ...     ...    ...    ...    ...   ...   ...   ...\n53934   0.72    Premium     D     SI1   62.7   59.0   2757  5.69  5.73  3.58\n53935   0.72      Ideal     D     SI1   60.8   57.0   2757  5.75  5.76  3.50\n53936   0.72       Good     D     SI1   63.1   55.0   2757  5.69  5.75  3.61\n53937   0.70  Very Good     D     SI1   62.8   60.0   2757  5.66  5.68  3.56\n53939   0.75      Ideal     D     SI2   62.2   55.0   2757  5.83  5.87  3.64\n\n[6775 rows x 10 columns]",
      "text/html": "<div>\n<style scoped>\n    .dataframe tbody tr th:only-of-type {\n        vertical-align: middle;\n    }\n\n    .dataframe tbody tr th {\n        vertical-align: top;\n    }\n\n    .dataframe thead th {\n        text-align: right;\n    }\n</style>\n<table border=\"1\" class=\"dataframe\">\n  <thead>\n    <tr style=\"text-align: right;\">\n      <th></th>\n      <th>carat</th>\n      <th>cut</th>\n      <th>color</th>\n      <th>clarity</th>\n      <th>depth</th>\n      <th>table</th>\n      <th>price</th>\n      <th>x</th>\n      <th>y</th>\n      <th>z</th>\n    </tr>\n  </thead>\n  <tbody>\n    <tr>\n      <th>28</th>\n      <td>0.23</td>\n      <td>Very Good</td>\n      <td>D</td>\n      <td>VS2</td>\n      <td>60.5</td>\n      <td>61.0</td>\n      <td>357</td>\n      <td>3.96</td>\n      <td>3.97</td>\n      <td>2.40</td>\n    </tr>\n    <tr>\n      <th>34</th>\n      <td>0.23</td>\n      <td>Very Good</td>\n      <td>D</td>\n      <td>VS1</td>\n      <td>61.9</td>\n      <td>58.0</td>\n      <td>402</td>\n      <td>3.92</td>\n      <td>3.96</td>\n      <td>2.44</td>\n    </tr>\n    <tr>\n      <th>38</th>\n      <td>0.26</td>\n      <td>Very Good</td>\n      <td>D</td>\n      <td>VS2</td>\n      <td>60.8</td>\n      <td>59.0</td>\n      <td>403</td>\n      <td>4.13</td>\n      <td>4.16</td>\n      <td>2.52</td>\n    </tr>\n    <tr>\n      <th>42</th>\n      <td>0.26</td>\n      <td>Good</td>\n      <td>D</td>\n      <td>VS2</td>\n      <td>65.2</td>\n      <td>56.0</td>\n      <td>403</td>\n      <td>3.99</td>\n      <td>4.02</td>\n      <td>2.61</td>\n    </tr>\n    <tr>\n      <th>43</th>\n      <td>0.26</td>\n      <td>Good</td>\n      <td>D</td>\n      <td>VS1</td>\n      <td>58.4</td>\n      <td>63.0</td>\n      <td>403</td>\n      <td>4.19</td>\n      <td>4.24</td>\n      <td>2.46</td>\n    </tr>\n    <tr>\n      <th>...</th>\n      <td>...</td>\n      <td>...</td>\n      <td>...</td>\n      <td>...</td>\n      <td>...</td>\n      <td>...</td>\n      <td>...</td>\n      <td>...</td>\n      <td>...</td>\n      <td>...</td>\n    </tr>\n    <tr>\n      <th>53934</th>\n      <td>0.72</td>\n      <td>Premium</td>\n      <td>D</td>\n      <td>SI1</td>\n      <td>62.7</td>\n      <td>59.0</td>\n      <td>2757</td>\n      <td>5.69</td>\n      <td>5.73</td>\n      <td>3.58</td>\n    </tr>\n    <tr>\n      <th>53935</th>\n      <td>0.72</td>\n      <td>Ideal</td>\n      <td>D</td>\n      <td>SI1</td>\n      <td>60.8</td>\n      <td>57.0</td>\n      <td>2757</td>\n      <td>5.75</td>\n      <td>5.76</td>\n      <td>3.50</td>\n    </tr>\n    <tr>\n      <th>53936</th>\n      <td>0.72</td>\n      <td>Good</td>\n      <td>D</td>\n      <td>SI1</td>\n      <td>63.1</td>\n      <td>55.0</td>\n      <td>2757</td>\n      <td>5.69</td>\n      <td>5.75</td>\n      <td>3.61</td>\n    </tr>\n    <tr>\n      <th>53937</th>\n      <td>0.70</td>\n      <td>Very Good</td>\n      <td>D</td>\n      <td>SI1</td>\n      <td>62.8</td>\n      <td>60.0</td>\n      <td>2757</td>\n      <td>5.66</td>\n      <td>5.68</td>\n      <td>3.56</td>\n    </tr>\n    <tr>\n      <th>53939</th>\n      <td>0.75</td>\n      <td>Ideal</td>\n      <td>D</td>\n      <td>SI2</td>\n      <td>62.2</td>\n      <td>55.0</td>\n      <td>2757</td>\n      <td>5.83</td>\n      <td>5.87</td>\n      <td>3.64</td>\n    </tr>\n  </tbody>\n</table>\n<p>6775 rows × 10 columns</p>\n</div>"
     },
     "execution_count": 30,
     "metadata": {},
     "output_type": "execute_result"
    }
   ],
   "source": [
    "# Numpy-Where kann man also auch für die Wandlung von nominalen Attributen \n",
    "# in numerische Attribute gut gebrauchen. Auch möglich ist das \n",
    "# Zusammenfassen einzelner Ausprägungen. Beispiel: Farbe D ist bei Diamanten \n",
    "# sehr selten. Für die Preisprognose also wichtig: D oder nicht-D ?\n",
    "import pandas as pd\n",
    "\n",
    "df = pd.read_csv(\"data/diamonds.csv\")\n",
    "#df.head(200)\n",
    "df[df['color'] == \"D\" ] "
   ]
  },
  {
   "cell_type": "code",
   "execution_count": 31,
   "metadata": {},
   "outputs": [
    {
     "data": {
      "text/plain": "6775"
     },
     "execution_count": 31,
     "metadata": {},
     "output_type": "execute_result"
    }
   ],
   "source": [
    "sum(np.where(df[\"color\"] == \"D\",[1], [0]))"
   ]
  },
  {
   "cell_type": "code",
   "execution_count": 32,
   "metadata": {},
   "outputs": [
    {
     "data": {
      "text/plain": "       carat        cut color clarity  depth  table  price     x     y     z  \\\n0       0.23      Ideal     E     SI2   61.5   55.0    326  3.95  3.98  2.43   \n1       0.21    Premium     E     SI1   59.8   61.0    326  3.89  3.84  2.31   \n2       0.23       Good     E     VS1   56.9   65.0    327  4.05  4.07  2.31   \n3       0.29    Premium     I     VS2   62.4   58.0    334  4.20  4.23  2.63   \n4       0.31       Good     J     SI2   63.3   58.0    335  4.34  4.35  2.75   \n...      ...        ...   ...     ...    ...    ...    ...   ...   ...   ...   \n53935   0.72      Ideal     D     SI1   60.8   57.0   2757  5.75  5.76  3.50   \n53936   0.72       Good     D     SI1   63.1   55.0   2757  5.69  5.75  3.61   \n53937   0.70  Very Good     D     SI1   62.8   60.0   2757  5.66  5.68  3.56   \n53938   0.86    Premium     H     SI2   61.0   58.0   2757  6.15  6.12  3.74   \n53939   0.75      Ideal     D     SI2   62.2   55.0   2757  5.83  5.87  3.64   \n\n       color_d  \n0            0  \n1            0  \n2            0  \n3            0  \n4            0  \n...        ...  \n53935        1  \n53936        1  \n53937        1  \n53938        0  \n53939        1  \n\n[53940 rows x 11 columns]",
      "text/html": "<div>\n<style scoped>\n    .dataframe tbody tr th:only-of-type {\n        vertical-align: middle;\n    }\n\n    .dataframe tbody tr th {\n        vertical-align: top;\n    }\n\n    .dataframe thead th {\n        text-align: right;\n    }\n</style>\n<table border=\"1\" class=\"dataframe\">\n  <thead>\n    <tr style=\"text-align: right;\">\n      <th></th>\n      <th>carat</th>\n      <th>cut</th>\n      <th>color</th>\n      <th>clarity</th>\n      <th>depth</th>\n      <th>table</th>\n      <th>price</th>\n      <th>x</th>\n      <th>y</th>\n      <th>z</th>\n      <th>color_d</th>\n    </tr>\n  </thead>\n  <tbody>\n    <tr>\n      <th>0</th>\n      <td>0.23</td>\n      <td>Ideal</td>\n      <td>E</td>\n      <td>SI2</td>\n      <td>61.5</td>\n      <td>55.0</td>\n      <td>326</td>\n      <td>3.95</td>\n      <td>3.98</td>\n      <td>2.43</td>\n      <td>0</td>\n    </tr>\n    <tr>\n      <th>1</th>\n      <td>0.21</td>\n      <td>Premium</td>\n      <td>E</td>\n      <td>SI1</td>\n      <td>59.8</td>\n      <td>61.0</td>\n      <td>326</td>\n      <td>3.89</td>\n      <td>3.84</td>\n      <td>2.31</td>\n      <td>0</td>\n    </tr>\n    <tr>\n      <th>2</th>\n      <td>0.23</td>\n      <td>Good</td>\n      <td>E</td>\n      <td>VS1</td>\n      <td>56.9</td>\n      <td>65.0</td>\n      <td>327</td>\n      <td>4.05</td>\n      <td>4.07</td>\n      <td>2.31</td>\n      <td>0</td>\n    </tr>\n    <tr>\n      <th>3</th>\n      <td>0.29</td>\n      <td>Premium</td>\n      <td>I</td>\n      <td>VS2</td>\n      <td>62.4</td>\n      <td>58.0</td>\n      <td>334</td>\n      <td>4.20</td>\n      <td>4.23</td>\n      <td>2.63</td>\n      <td>0</td>\n    </tr>\n    <tr>\n      <th>4</th>\n      <td>0.31</td>\n      <td>Good</td>\n      <td>J</td>\n      <td>SI2</td>\n      <td>63.3</td>\n      <td>58.0</td>\n      <td>335</td>\n      <td>4.34</td>\n      <td>4.35</td>\n      <td>2.75</td>\n      <td>0</td>\n    </tr>\n    <tr>\n      <th>...</th>\n      <td>...</td>\n      <td>...</td>\n      <td>...</td>\n      <td>...</td>\n      <td>...</td>\n      <td>...</td>\n      <td>...</td>\n      <td>...</td>\n      <td>...</td>\n      <td>...</td>\n      <td>...</td>\n    </tr>\n    <tr>\n      <th>53935</th>\n      <td>0.72</td>\n      <td>Ideal</td>\n      <td>D</td>\n      <td>SI1</td>\n      <td>60.8</td>\n      <td>57.0</td>\n      <td>2757</td>\n      <td>5.75</td>\n      <td>5.76</td>\n      <td>3.50</td>\n      <td>1</td>\n    </tr>\n    <tr>\n      <th>53936</th>\n      <td>0.72</td>\n      <td>Good</td>\n      <td>D</td>\n      <td>SI1</td>\n      <td>63.1</td>\n      <td>55.0</td>\n      <td>2757</td>\n      <td>5.69</td>\n      <td>5.75</td>\n      <td>3.61</td>\n      <td>1</td>\n    </tr>\n    <tr>\n      <th>53937</th>\n      <td>0.70</td>\n      <td>Very Good</td>\n      <td>D</td>\n      <td>SI1</td>\n      <td>62.8</td>\n      <td>60.0</td>\n      <td>2757</td>\n      <td>5.66</td>\n      <td>5.68</td>\n      <td>3.56</td>\n      <td>1</td>\n    </tr>\n    <tr>\n      <th>53938</th>\n      <td>0.86</td>\n      <td>Premium</td>\n      <td>H</td>\n      <td>SI2</td>\n      <td>61.0</td>\n      <td>58.0</td>\n      <td>2757</td>\n      <td>6.15</td>\n      <td>6.12</td>\n      <td>3.74</td>\n      <td>0</td>\n    </tr>\n    <tr>\n      <th>53939</th>\n      <td>0.75</td>\n      <td>Ideal</td>\n      <td>D</td>\n      <td>SI2</td>\n      <td>62.2</td>\n      <td>55.0</td>\n      <td>2757</td>\n      <td>5.83</td>\n      <td>5.87</td>\n      <td>3.64</td>\n      <td>1</td>\n    </tr>\n  </tbody>\n</table>\n<p>53940 rows × 11 columns</p>\n</div>"
     },
     "execution_count": 32,
     "metadata": {},
     "output_type": "execute_result"
    }
   ],
   "source": [
    "df[\"color_d\"] = np.where(df[\"color\"] == \"D\",[1], [0])\n",
    "df"
   ]
  },
  {
   "cell_type": "code",
   "execution_count": 33,
   "metadata": {},
   "outputs": [
    {
     "data": {
      "text/plain": "0        E\n1        E\n2        E\n3        I\n4        J\n        ..\n53935    D\n53936    D\n53937    D\n53938    H\n53939    D\nName: color, Length: 53940, dtype: object"
     },
     "execution_count": 33,
     "metadata": {},
     "output_type": "execute_result"
    }
   ],
   "source": [
    "df[\"color\"]"
   ]
  },
  {
   "cell_type": "code",
   "execution_count": 34,
   "metadata": {},
   "outputs": [
    {
     "data": {
      "text/plain": "6775"
     },
     "execution_count": 34,
     "metadata": {},
     "output_type": "execute_result"
    }
   ],
   "source": [
    "sum(df[\"color_d\"])"
   ]
  },
  {
   "cell_type": "code",
   "execution_count": 34,
   "metadata": {},
   "outputs": [],
   "source": []
  }
 ],
 "metadata": {
  "kernelspec": {
   "display_name": "Python 3",
   "language": "python",
   "name": "python3"
  },
  "language_info": {
   "codemirror_mode": {
    "name": "ipython",
    "version": 3
   },
   "file_extension": ".py",
   "mimetype": "text/x-python",
   "name": "python",
   "nbconvert_exporter": "python",
   "pygments_lexer": "ipython3",
   "version": "3.8.5"
  }
 },
 "nbformat": 4,
 "nbformat_minor": 4
}
