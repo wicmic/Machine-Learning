{
 "cells": [
  {
   "cell_type": "markdown",
   "metadata": {},
   "source": [
    "# Welche Spalten ????"
   ]
  },
  {
   "cell_type": "code",
   "execution_count": 1,
   "metadata": {
    "scrolled": true
   },
   "outputs": [
    {
     "data": {
      "text/plain": "     Gewinn  Preis in Mio  Quadratmeter    Stadt\n0  119000.0         21.88        3938.0   Berlin\n1  250000.0         27.95        3986.0  München\n2  250000.0         16.09        2574.0     Köln\n3  145000.0         27.58        4155.0  München\n4  110000.0         23.76        3795.0   Berlin",
      "text/html": "<div>\n<style scoped>\n    .dataframe tbody tr th:only-of-type {\n        vertical-align: middle;\n    }\n\n    .dataframe tbody tr th {\n        vertical-align: top;\n    }\n\n    .dataframe thead th {\n        text-align: right;\n    }\n</style>\n<table border=\"1\" class=\"dataframe\">\n  <thead>\n    <tr style=\"text-align: right;\">\n      <th></th>\n      <th>Gewinn</th>\n      <th>Preis in Mio</th>\n      <th>Quadratmeter</th>\n      <th>Stadt</th>\n    </tr>\n  </thead>\n  <tbody>\n    <tr>\n      <th>0</th>\n      <td>119000.0</td>\n      <td>21.88</td>\n      <td>3938.0</td>\n      <td>Berlin</td>\n    </tr>\n    <tr>\n      <th>1</th>\n      <td>250000.0</td>\n      <td>27.95</td>\n      <td>3986.0</td>\n      <td>München</td>\n    </tr>\n    <tr>\n      <th>2</th>\n      <td>250000.0</td>\n      <td>16.09</td>\n      <td>2574.0</td>\n      <td>Köln</td>\n    </tr>\n    <tr>\n      <th>3</th>\n      <td>145000.0</td>\n      <td>27.58</td>\n      <td>4155.0</td>\n      <td>München</td>\n    </tr>\n    <tr>\n      <th>4</th>\n      <td>110000.0</td>\n      <td>23.76</td>\n      <td>3795.0</td>\n      <td>Berlin</td>\n    </tr>\n  </tbody>\n</table>\n</div>"
     },
     "execution_count": 1,
     "metadata": {},
     "output_type": "execute_result"
    }
   ],
   "source": [
    "import pandas as pd\n",
    "\n",
    "df = pd.read_csv(\"data/hotels.csv\")\n",
    "\n",
    "df.head()"
   ]
  },
  {
   "cell_type": "code",
   "execution_count": 7,
   "metadata": {},
   "outputs": [
    {
     "data": {
      "text/plain": "0.8820077907350844"
     },
     "execution_count": 7,
     "metadata": {},
     "output_type": "execute_result"
    }
   ],
   "source": [
    "# Werte aus DataFrame extrahieren\n",
    "X = df[[\"Quadratmeter\"]].values\n",
    "Y = df[[\"Preis in Mio\"]].values\n",
    "\n",
    "# Train / Test\n",
    "from sklearn.model_selection import train_test_split\n",
    "\n",
    "X_train, X_test, y_train, y_test = train_test_split(X, Y, random_state = 0, test_size = 0.25)\n",
    "\n",
    "# Lineare Regression\n",
    "from sklearn.linear_model import LinearRegression\n",
    "\n",
    "model = LinearRegression()\n",
    "model.fit(X_train, y_train)\n",
    "\n",
    "model.score(X_test, y_test)\n",
    "#... ist jedes Mal das Selbe Ergebnis"
   ]
  },
  {
   "cell_type": "code",
   "execution_count": 11,
   "metadata": {},
   "outputs": [
    {
     "data": {
      "text/plain": "0.7608313665691568"
     },
     "execution_count": 11,
     "metadata": {},
     "output_type": "execute_result"
    }
   ],
   "source": [
    "# Wirklich zufällig!\n",
    "# Werte aus DataFrame extrahieren\n",
    "X = df[[\"Quadratmeter\"]].values\n",
    "Y = df[[\"Preis in Mio\"]].values\n",
    "\n",
    "# Train / Test\n",
    "from sklearn.model_selection import train_test_split\n",
    "#...jetzt ohne ramdom_state=0\n",
    "X_train, X_test, y_train, y_test = train_test_split(X, Y, test_size = 0.25)\n",
    "\n",
    "# Lineare Regression\n",
    "from sklearn.linear_model import LinearRegression\n",
    "\n",
    "model = LinearRegression()\n",
    "model.fit(X_train, y_train)\n",
    "\n",
    "model.score(X_test, y_test)\n",
    "#... jedes Mal ein anderes Ergebnis - jetzt ist der Split wirklich zufällig, \n",
    "#...aber was ist der realistische Wert für R2 ???"
   ]
  },
  {
   "cell_type": "code",
   "execution_count": 10,
   "metadata": {},
   "outputs": [
    {
     "name": "stdout",
     "output_type": "stream",
     "text": [
      "0.8211642941043605\n"
     ]
    }
   ],
   "source": [
    "scores = []\n",
    "\n",
    "for i in range(0, 10000):\n",
    "    # Werte aus DataFrame extrahieren\n",
    "    X = df[[\"Quadratmeter\"]].values\n",
    "    Y = df[[\"Preis in Mio\"]].values\n",
    "\n",
    "    # Train / Test\n",
    "    from sklearn.model_selection import train_test_split\n",
    "\n",
    "    X_train, X_test, y_train, y_test = train_test_split(X, Y, test_size = 0.25)\n",
    "\n",
    "    # Lineare Regression\n",
    "    from sklearn.linear_model import LinearRegression\n",
    "\n",
    "    model = LinearRegression()\n",
    "    model.fit(X_train, y_train)\n",
    "\n",
    "    #print(model.score(X_test, y_test))\n",
    "    scores.append(model.score(X_test, y_test))\n",
    "print(sum(scores) / len(scores))"
   ]
  },
  {
   "cell_type": "markdown",
   "metadata": {},
   "source": [
    "### Ist eine zusätzliche Spalte Gewinn hier zuträglich ???"
   ]
  },
  {
   "cell_type": "code",
   "execution_count": 5,
   "metadata": {
    "scrolled": true
   },
   "outputs": [
    {
     "name": "stdout",
     "output_type": "stream",
     "text": [
      "0.8201951446898648\n"
     ]
    }
   ],
   "source": [
    "scores = []\n",
    "\n",
    "for i in range(0, 10000):\n",
    "    # Werte aus DataFrame extrahieren\n",
    "    X = df[[\"Gewinn\", \"Quadratmeter\"]].values\n",
    "    Y = df[[\"Preis in Mio\"]].values\n",
    "\n",
    "    # Train / Test\n",
    "    from sklearn.model_selection import train_test_split\n",
    "\n",
    "    X_train, X_test, y_train, y_test = train_test_split(X, Y, test_size = 0.25)\n",
    "\n",
    "    # Lineare Regression\n",
    "    from sklearn.linear_model import LinearRegression\n",
    "\n",
    "    model = LinearRegression()\n",
    "    model.fit(X_train, y_train)\n",
    "\n",
    "    #print(model.score(X_test, y_test))\n",
    "    scores.append(model.score(X_test, y_test))\n",
    "\n",
    "print(sum(scores) / len(scores))"
   ]
  },
  {
   "cell_type": "code",
   "execution_count": 6,
   "metadata": {},
   "outputs": [],
   "source": [
    "#eher wohl nicht... Das bringt also kaum eine tatsächliche Verbesserung!!!"
   ]
  }
 ],
 "metadata": {
  "kernelspec": {
   "display_name": "Python 3",
   "language": "python",
   "name": "python3"
  },
  "language_info": {
   "codemirror_mode": {
    "name": "ipython",
    "version": 3
   },
   "file_extension": ".py",
   "mimetype": "text/x-python",
   "name": "python",
   "nbconvert_exporter": "python",
   "pygments_lexer": "ipython3",
   "version": "3.8.5"
  }
 },
 "nbformat": 4,
 "nbformat_minor": 2
}
