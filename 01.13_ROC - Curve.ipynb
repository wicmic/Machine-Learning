{
 "cells": [
  {
   "cell_type": "markdown",
   "metadata": {},
   "source": [
    "# Die ROC-Curve - Beurteilung binärer Classifier\n",
    "### Einführungsbeispiel"
   ]
  },
  {
   "cell_type": "code",
   "execution_count": 1,
   "metadata": {},
   "outputs": [
    {
     "name": "stdout",
     "output_type": "stream",
     "text": [
      "Das Modell sagt: [ True  True  True False  True  True False False False False]\n",
      "Tatsächlich:     [False False False False False  True  True  True  True  True]\n"
     ]
    },
    {
     "data": {
      "text/plain": "<Figure size 640x480 with 1 Axes>",
      "image/png": "[encoded data removed]"
     },
     "metadata": {},
     "output_type": "display_data"
    }
   ],
   "source": [
    "import numpy as np\n",
    "from sklearn import metrics\n",
    "#Die tatsächliche Klassenzugehörigkeit (also 0 oder 1) ist hier wiedergegeben:\n",
    "y = np.array([0,0,0,0,0,1,1,1,1,1]) \n",
    "# Gegeben seien Vorhersagen eines Modells: 0.5 sei die Entscheidungsgrenze: \n",
    "scores = np.array([0.0, 0.0, 0.1, 0.55, 0.45, 0.4, 0.8, 0.8, 0.8, 1.0])\n",
    "y_test_pred = scores <= 0.5\n",
    "print('Das Modell sagt: ' + str(y_test_pred))\n",
    "print('Tatsächlich:     ' + str(y == 1))\n",
    "# ...um 0.5 herum gibt es also FP's und FN's, was mit der ROC-Curve gezeigt wird:\n",
    "fpr, tpr, thresholds = metrics.roc_curve(y, scores, pos_label=1)\n",
    "%matplotlib inline\n",
    "import matplotlib.pyplot as plt\n",
    "plt.plot(fpr, tpr)\n",
    "plt.show()"
   ]
  },
  {
   "cell_type": "code",
   "execution_count": 2,
   "metadata": {},
   "outputs": [
    {
     "data": {
      "text/plain": "<Figure size 640x480 with 2 Axes>",
      "image/png": "[encoded data removed]"
     },
     "metadata": {},
     "output_type": "display_data"
    }
   ],
   "source": [
    "import pandas as pd\n",
    "# Schöner in Seaborn.....\n",
    "import seaborn as sn\n",
    "import matplotlib.pyplot as plt\n",
    "# y: tatsächlich              \n",
    "conf_mat = pd.crosstab(y, y_test_pred, rownames=['Actual'], colnames=['Predicted'])\n",
    "sn.heatmap(conf_mat, annot=True)\n",
    "plt.show()"
   ]
  },
  {
   "cell_type": "code",
   "execution_count": 2,
   "metadata": {},
   "outputs": [],
   "source": []
  },
  {
   "cell_type": "markdown",
   "metadata": {},
   "source": [
    "### Die ROC-Curve an einem Beispiel-Modell"
   ]
  },
  {
   "cell_type": "code",
   "execution_count": 3,
   "metadata": {},
   "outputs": [
    {
     "data": {
      "text/plain": "891"
     },
     "execution_count": 3,
     "metadata": {},
     "output_type": "execute_result"
    }
   ],
   "source": [
    "import pandas as pd\n",
    "\n",
    "df = pd.read_csv(\"data/classification.csv\")\n",
    "\n",
    "# Wenn du ein paar Spalten vorab aus den Daten entfernen\n",
    "# df = df.drop(\"Spaltenname\", axis = 1)\n",
    "\n",
    "# Wenn du eine kategorische Variable in mehrere Spalten umwandeln\n",
    "# möchtest, kannst du das mit folgendem Code tun:\n",
    "# df = pd.get_dummies(df, columns = [\"Spaltenname\"])\n",
    "\n",
    "df.size"
   ]
  },
  {
   "cell_type": "code",
   "execution_count": 4,
   "metadata": {},
   "outputs": [],
   "source": [
    "from sklearn.model_selection import train_test_split\n",
    "\n",
    "# Welche Spalten sollen zur Vorhersage verwendet werden\n",
    "X = df[[\"age\", \"interest\"]].values\n",
    "\n",
    "# Oder: Die Spalte \"success\" soll nicht zur Vorhersage verwendet werden:\n",
    "# X = df.drop(\"success\", axis = 1).values\n",
    "\n",
    "y = df[\"success\"].values\n",
    "\n",
    "X_train, X_test, y_train, y_test = train_test_split(X, y, random_state = 0, test_size = 0.25)"
   ]
  },
  {
   "cell_type": "code",
   "execution_count": 5,
   "metadata": {},
   "outputs": [
    {
     "name": "stdout",
     "output_type": "stream",
     "text": [
      "0.8933333333333333\n"
     ]
    }
   ],
   "source": [
    "### Achtung!!! - Entweder Naiver-Bayes oder....\n",
    "from sklearn.naive_bayes import GaussianNB\n",
    "model = GaussianNB()\n",
    "model.fit(X_train, y_train)\n",
    "print(model.score(X_test, y_test))"
   ]
  },
  {
   "cell_type": "code",
   "execution_count": 6,
   "metadata": {},
   "outputs": [
    {
     "name": "stdout",
     "output_type": "stream",
     "text": [
      "0.88\n"
     ]
    }
   ],
   "source": [
    "### Achtung!!! - ....oder Logistic Regression ausführen...\n",
    "from sklearn.preprocessing import StandardScaler\n",
    "\n",
    "scaler = StandardScaler()\n",
    "scaler.fit(X_train)\n",
    "\n",
    "X_train = scaler.transform(X_train)\n",
    "X_test = scaler.transform(X_test)\n",
    "\n",
    "from sklearn.linear_model import LogisticRegression\n",
    "\n",
    "model = LogisticRegression()\n",
    "model.fit(X_train, y_train)\n",
    "print(model.score(X_test, y_test))"
   ]
  },
  {
   "cell_type": "code",
   "execution_count": 7,
   "metadata": {},
   "outputs": [
    {
     "data": {
      "text/plain": "array([1., 0., 0., 1., 1., 0., 0., 1., 1., 1., 1., 1., 0., 1., 1., 1., 0.,\n       0., 0., 1., 1., 1., 0., 1., 0., 0., 1., 0., 1., 1., 0., 1., 0., 0.,\n       1., 1., 0., 1., 0., 1., 0., 0., 1., 1., 1., 1., 1., 1., 0., 1., 1.,\n       1., 1., 0., 1., 0., 1., 1., 0., 0., 0., 0., 1., 1., 1., 0., 1., 0.,\n       1., 1., 0., 1., 0., 1., 1.])"
     },
     "execution_count": 7,
     "metadata": {},
     "output_type": "execute_result"
    }
   ],
   "source": [
    "y_pred = model.predict(X_test)\n",
    "# das liefert aber nur 0en und 1en\n",
    "y_pred"
   ]
  },
  {
   "cell_type": "code",
   "execution_count": 8,
   "metadata": {},
   "outputs": [
    {
     "data": {
      "text/plain": "array([[1.25569216e-02, 9.87443078e-01],\n       [6.10372152e-01, 3.89627848e-01],\n       [9.72537407e-01, 2.74625928e-02],\n       [1.98431353e-01, 8.01568647e-01],\n       [6.40344982e-03, 9.93596550e-01],\n       [9.75423390e-01, 2.45766105e-02],\n       [8.74017890e-01, 1.25982110e-01],\n       [6.83083709e-03, 9.93169163e-01],\n       [7.78603824e-04, 9.99221396e-01],\n       [1.70128650e-01, 8.29871350e-01],\n       [4.45428389e-01, 5.54571611e-01],\n       [6.47569799e-02, 9.35243020e-01],\n       [9.11801218e-01, 8.81987815e-02],\n       [1.23209493e-02, 9.87679051e-01],\n       [3.38008368e-04, 9.99661992e-01],\n       [6.72858998e-03, 9.93271410e-01],\n       [8.33002435e-01, 1.66997565e-01],\n       [9.77462316e-01, 2.25376844e-02],\n       [8.32321260e-01, 1.67678740e-01],\n       [3.76617453e-02, 9.62338255e-01],\n       [9.40274679e-02, 9.05972532e-01],\n       [2.87015640e-03, 9.97129844e-01],\n       [8.38358976e-01, 1.61641024e-01],\n       [1.95117217e-01, 8.04882783e-01],\n       [7.68015599e-01, 2.31984401e-01],\n       [6.89731030e-01, 3.10268970e-01],\n       [2.46259111e-01, 7.53740889e-01],\n       [6.79362779e-01, 3.20637221e-01],\n       [1.41884328e-03, 9.98581157e-01],\n       [1.10724731e-02, 9.88927527e-01],\n       [8.15809202e-01, 1.84190798e-01],\n       [4.67570930e-01, 5.32429070e-01],\n       [7.73809713e-01, 2.26190287e-01],\n       [9.13347251e-01, 8.66527492e-02],\n       [1.55629106e-01, 8.44370894e-01],\n       [5.77011289e-03, 9.94229887e-01],\n       [9.45090351e-01, 5.49096494e-02],\n       [4.76274702e-01, 5.23725298e-01],\n       [6.66751831e-01, 3.33248169e-01],\n       [5.54918754e-03, 9.94450812e-01],\n       [7.42856446e-01, 2.57143554e-01],\n       [9.95202280e-01, 4.79772035e-03],\n       [2.34882241e-01, 7.65117759e-01],\n       [2.54991793e-02, 9.74500821e-01],\n       [2.33166943e-02, 9.76683306e-01],\n       [1.84710199e-02, 9.81528980e-01],\n       [4.97895237e-02, 9.50210476e-01],\n       [1.47993943e-01, 8.52006057e-01],\n       [5.97864167e-01, 4.02135833e-01],\n       [1.42263589e-02, 9.85773641e-01],\n       [4.27905238e-01, 5.72094762e-01],\n       [8.55046443e-02, 9.14495356e-01],\n       [9.15185430e-03, 9.90848146e-01],\n       [9.47026500e-01, 5.29735002e-02],\n       [5.12214020e-02, 9.48778598e-01],\n       [7.79446388e-01, 2.20553612e-01],\n       [4.58532956e-01, 5.41467044e-01],\n       [1.56501414e-03, 9.98434986e-01],\n       [6.61654514e-01, 3.38345486e-01],\n       [9.97257718e-01, 2.74228167e-03],\n       [9.97794869e-01, 2.20513106e-03],\n       [9.64771638e-01, 3.52283620e-02],\n       [1.25773530e-01, 8.74226470e-01],\n       [4.02280244e-01, 5.97719756e-01],\n       [3.50682785e-01, 6.49317215e-01],\n       [8.35207321e-01, 1.64792679e-01],\n       [1.17152957e-02, 9.88284704e-01],\n       [6.82496867e-01, 3.17503133e-01],\n       [1.56320376e-02, 9.84367962e-01],\n       [5.89683981e-03, 9.94103160e-01],\n       [9.57809663e-01, 4.21903368e-02],\n       [3.21263078e-01, 6.78736922e-01],\n       [9.98134848e-01, 1.86515214e-03],\n       [4.48880675e-02, 9.55111933e-01],\n       [2.95026100e-02, 9.70497390e-01]])"
     },
     "execution_count": 8,
     "metadata": {},
     "output_type": "execute_result"
    }
   ],
   "source": [
    "#predict_proba() liefert nun Wahrscheinlichkeitswerte\n",
    "#[....[Wahrscheinlichkeit0,  Wahrscheinlichkeit1], ....]\n",
    "model.predict_proba(X_test)"
   ]
  },
  {
   "cell_type": "code",
   "execution_count": 9,
   "metadata": {},
   "outputs": [],
   "source": [
    "\n",
    "y_test_pred = model.predict_proba(X_test)[:, 1]"
   ]
  },
  {
   "cell_type": "code",
   "execution_count": 10,
   "metadata": {},
   "outputs": [
    {
     "data": {
      "text/plain": "array([0.98744308, 0.38962785, 0.02746259, 0.80156865, 0.99359655,\n       0.02457661, 0.12598211, 0.99316916, 0.9992214 , 0.82987135,\n       0.55457161, 0.93524302, 0.08819878, 0.98767905, 0.99966199,\n       0.99327141, 0.16699757, 0.02253768, 0.16767874, 0.96233825,\n       0.90597253, 0.99712984, 0.16164102, 0.80488278, 0.2319844 ,\n       0.31026897, 0.75374089, 0.32063722, 0.99858116, 0.98892753,\n       0.1841908 , 0.53242907, 0.22619029, 0.08665275, 0.84437089,\n       0.99422989, 0.05490965, 0.5237253 , 0.33324817, 0.99445081,\n       0.25714355, 0.00479772, 0.76511776, 0.97450082, 0.97668331,\n       0.98152898, 0.95021048, 0.85200606, 0.40213583, 0.98577364,\n       0.57209476, 0.91449536, 0.99084815, 0.0529735 , 0.9487786 ,\n       0.22055361, 0.54146704, 0.99843499, 0.33834549, 0.00274228,\n       0.00220513, 0.03522836, 0.87422647, 0.59771976, 0.64931721,\n       0.16479268, 0.9882847 , 0.31750313, 0.98436796, 0.99410316,\n       0.04219034, 0.67873692, 0.00186515, 0.95511193, 0.97049739])"
     },
     "execution_count": 10,
     "metadata": {},
     "output_type": "execute_result"
    }
   ],
   "source": [
    "y_test_pred"
   ]
  },
  {
   "cell_type": "code",
   "execution_count": 11,
   "metadata": {},
   "outputs": [],
   "source": [
    "from sklearn.metrics import roc_curve, roc_auc_score\n",
    "fpr, tpr, thresholds = roc_curve(y_test, y_test_pred, pos_label=1)\n"
   ]
  },
  {
   "cell_type": "code",
   "execution_count": 12,
   "metadata": {},
   "outputs": [
    {
     "data": {
      "text/plain": "array([0.        , 0.        , 0.        , 0.02702703, 0.02702703,\n       0.05405405, 0.05405405, 0.08108108, 0.08108108, 0.10810811,\n       0.10810811, 0.21621622, 0.21621622, 0.37837838, 0.37837838,\n       1.        ])"
     },
     "execution_count": 12,
     "metadata": {},
     "output_type": "execute_result"
    }
   ],
   "source": [
    "fpr"
   ]
  },
  {
   "cell_type": "code",
   "execution_count": 13,
   "metadata": {},
   "outputs": [
    {
     "data": {
      "text/plain": "array([0.        , 0.02631579, 0.57894737, 0.57894737, 0.60526316,\n       0.60526316, 0.81578947, 0.81578947, 0.89473684, 0.89473684,\n       0.94736842, 0.94736842, 0.97368421, 0.97368421, 1.        ,\n       1.        ])"
     },
     "execution_count": 13,
     "metadata": {},
     "output_type": "execute_result"
    }
   ],
   "source": [
    "tpr"
   ]
  },
  {
   "cell_type": "code",
   "execution_count": 14,
   "metadata": {},
   "outputs": [
    {
     "data": {
      "text/plain": "array([1.99966199e+00, 9.99661992e-01, 9.70497390e-01, 9.62338255e-01,\n       9.55111933e-01, 9.50210476e-01, 8.29871350e-01, 8.04882783e-01,\n       7.53740889e-01, 6.78736922e-01, 5.97719756e-01, 5.32429070e-01,\n       5.23725298e-01, 3.17503133e-01, 3.10268970e-01, 1.86515214e-03])"
     },
     "execution_count": 14,
     "metadata": {},
     "output_type": "execute_result"
    }
   ],
   "source": [
    "thresholds"
   ]
  },
  {
   "cell_type": "code",
   "execution_count": 15,
   "metadata": {},
   "outputs": [
    {
     "data": {
      "text/plain": "<Figure size 640x480 with 1 Axes>",
      "image/png": "[encoded data removed]"
     },
     "metadata": {},
     "output_type": "display_data"
    }
   ],
   "source": [
    "%matplotlib inline\n",
    "import matplotlib.pyplot as plt\n",
    "plt.plot(fpr, tpr)\n",
    "plt.show()"
   ]
  },
  {
   "cell_type": "code",
   "execution_count": 16,
   "metadata": {},
   "outputs": [
    {
     "data": {
      "text/plain": "0.9601706970128023"
     },
     "execution_count": 16,
     "metadata": {},
     "output_type": "execute_result"
    }
   ],
   "source": [
    "roc_auc_score(y_test, y_test_pred)"
   ]
  },
  {
   "cell_type": "code",
   "execution_count": 16,
   "metadata": {},
   "outputs": [],
   "source": []
  },
  {
   "cell_type": "code",
   "execution_count": 17,
   "metadata": {},
   "outputs": [
    {
     "data": {
      "text/plain": "<Figure size 640x480 with 1 Axes>",
      "image/png": "[encoded data removed]"
     },
     "metadata": {},
     "output_type": "display_data"
    }
   ],
   "source": [
    "%matplotlib inline\n",
    "import matplotlib.pyplot as plt\n",
    "plt.plot(fpr, tpr)\n",
    "plt.show()"
   ]
  },
  {
   "cell_type": "code",
   "execution_count": 18,
   "metadata": {},
   "outputs": [
    {
     "data": {
      "text/plain": "0.9601706970128023"
     },
     "execution_count": 18,
     "metadata": {},
     "output_type": "execute_result"
    }
   ],
   "source": [
    "roc_auc_score(y_test, y_test_pred)"
   ]
  },
  {
   "cell_type": "code",
   "execution_count": 19,
   "metadata": {},
   "outputs": [],
   "source": [
    "metrics.roc_curve?"
   ]
  },
  {
   "cell_type": "markdown",
   "metadata": {},
   "source": [
    "### Die Veranschaulichung der ROC-Curve mit mehr oder weniger aussagekräftigen Verteilungen von Score-Werten\n"
   ]
  },
  {
   "cell_type": "code",
   "execution_count": 20,
   "metadata": {},
   "outputs": [
    {
     "data": {
      "text/plain": "interactive(children=(FloatSlider(value=0.35, description='y_negativ', max=1.0, step=0.05), FloatSlider(value=…",
      "application/vnd.jupyter.widget-view+json": {
       "version_major": 2,
       "version_minor": 0,
       "model_id": "2345267c0c034941bd18a7fff3bd067a"
      }
     },
     "metadata": {},
     "output_type": "display_data"
    },
    {
     "data": {
      "text/plain": "<function __main__.hist_model(y_negativ, y_positiv)>"
     },
     "execution_count": 20,
     "metadata": {},
     "output_type": "execute_result"
    }
   ],
   "source": [
    "from ipywidgets import interact, interactive, fixed, interact_manual\n",
    "from sklearn import metrics\n",
    "import ipywidgets as widgets\n",
    "import matplotlib.pyplot as plt\n",
    "import seaborn as sn\n",
    "import numpy as np\n",
    "%matplotlib inline\n",
    "\n",
    "n = 300\n",
    "negative = np.random.normal(0, 0.1, n) #Gauss-Verteilung mit Mittelwert, Standardabweichung, Anzahl n Datenpunkte\n",
    "positive = np.random.normal(0, 0.1, n) #Gauss-Verteilung mit Mittelwert, Standardabweichung, Anzahl n Datenpunkte\n",
    "\n",
    "def hist_model(y_negativ, y_positiv):\n",
    "    fig, axs = plt.subplots(1,3, figsize=(15, 5))\n",
    "    fig.tight_layout(pad=5.0) #Abstand der Subplots\n",
    "    #fig.suptitle('Titel')\n",
    "    \n",
    "    axs[0].set_title('Daten binärer Klassenzugehörigkeit')\n",
    "    axs[0].set_xlim([0, 1])\n",
    "    neg = negative+y_negativ\n",
    "    pos = positive+y_positiv\n",
    "    X = np.concatenate((neg, pos))\n",
    "    y = np.concatenate(( np.zeros(n), np.ones(n) ))\n",
    "    entscheidungsgrenze = (y_positiv + y_negativ) / 2\n",
    "    y_pred = X >= entscheidungsgrenze\n",
    "    axs[0].hist(neg, bins = (int)(n/10), color='red',  alpha = 0.5)\n",
    "    axs[0].hist(pos, bins = (int)(n/10), color='blue', alpha = 0.5)\n",
    "    axs[0].plot([entscheidungsgrenze,entscheidungsgrenze], [0,10], color='black')\n",
    "    axs[0].text(entscheidungsgrenze, 0.44, 'Entscheidungsgrenze', color='black', horizontalalignment='center', verticalalignment='center', transform=axs[0].transAxes)\n",
    "    axs[0].text(entscheidungsgrenze, 0.39, 'des Modells', color='black', horizontalalignment='center', verticalalignment='center', transform=axs[0].transAxes)\n",
    "\n",
    "    axs[0].set_xlabel(\"Score-Wert des Modells\", \n",
    "           #family='serif', \n",
    "           #color='r', \n",
    "           weight='normal', \n",
    "           size = 16,\n",
    "           labelpad = 6)\n",
    "    axs[0].set_ylabel(\"Anzahl\", \n",
    "           #family='serif', \n",
    "           #color='r', \n",
    "           weight='normal', \n",
    "           size = 16,\n",
    "           labelpad = 6)\n",
    "    axs[0].text(0.5, 0.9, 'Rot: negativ', color='red', horizontalalignment='center', verticalalignment='center', transform=axs[0].transAxes)\n",
    "    axs[0].text(0.5, 0.85, 'Blau: positiv', color='blue', horizontalalignment='center', verticalalignment='center', transform=axs[0].transAxes)\n",
    "    axs[0].text(0.5, 0.8, 'Violett: uneindeutig', color='purple', horizontalalignment='center', verticalalignment='center', transform=axs[0].transAxes)\n",
    "\n",
    "    axs[1].set_title('ROC-Kurve')   \n",
    "    axs[1].set_xlabel(\"P(TP)\", \n",
    "           #family='serif', \n",
    "           #color='r', \n",
    "           weight='normal', \n",
    "           size = 16,\n",
    "           labelpad = 6)\n",
    "    axs[1].set_ylabel(\"P(FP)\", \n",
    "           #family='serif', \n",
    "           #color='r', \n",
    "           weight='normal', \n",
    "           size = 16,\n",
    "           labelpad = 6)\n",
    "    fpr, tpr, thresholds = metrics.roc_curve(y, X, pos_label=1)\n",
    "    axs[1].plot(fpr, tpr)\n",
    "    auc = roc_auc_score(y, y_pred)\n",
    "    axs[1].text(0.5, 0.5, 'AUC-Score: {auc:.3f}'.format(auc=auc), horizontalalignment='center', verticalalignment='center', transform=axs[1].transAxes)\n",
    "\n",
    "    axs[2].set_title('Confusion-Matrix')\n",
    "    conf_mat = pd.crosstab(y, y_pred, rownames=['Actual'], colnames=['Predicted'])\n",
    "    sn.heatmap(conf_mat, annot=True, ax=axs[2]) \n",
    "    \n",
    "interact(hist_model, y_negativ = widgets.FloatSlider(value=0.35,\n",
    "                                               min=0,\n",
    "                                               max=1.0,\n",
    "                                               step=0.05),\n",
    "                    y_positiv = widgets.FloatSlider(value=0.65,\n",
    "                                               min=0,\n",
    "                                               max=1.0,\n",
    "                                               step=0.05))"
   ]
  },
  {
   "cell_type": "code",
   "execution_count": 20,
   "metadata": {},
   "outputs": [],
   "source": []
  }
 ],
 "metadata": {
  "kernelspec": {
   "display_name": "Python 3",
   "language": "python",
   "name": "python3"
  },
  "language_info": {
   "codemirror_mode": {
    "name": "ipython",
    "version": 3
   },
   "file_extension": ".py",
   "mimetype": "text/x-python",
   "name": "python",
   "nbconvert_exporter": "python",
   "pygments_lexer": "ipython3",
   "version": "3.8.5"
  }
 },
 "nbformat": 4,
 "nbformat_minor": 2
}
