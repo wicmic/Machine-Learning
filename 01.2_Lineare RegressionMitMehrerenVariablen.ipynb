{
 "cells": [
  {
   "cell_type": "markdown",
   "metadata": {},
   "source": [
    "# Lineare Regression mit mehreren Variablen"
   ]
  },
  {
   "cell_type": "code",
   "execution_count": 6,
   "metadata": {},
   "outputs": [],
   "source": [
    "import numpy as np\n",
    "from sklearn.linear_model import LinearRegression\n",
    "X = np.array([[1, 1], [1, 2], [2, 2], [2, 3]])\n",
    "# y = 1 * x_0 + 2 * x_1 + 3\n",
    "y = np.array([6, 8, 9, 11])\n",
    "reg = LinearRegression().fit(X, y)\n"
   ]
  },
  {
   "cell_type": "code",
   "execution_count": 7,
   "metadata": {},
   "outputs": [
    {
     "data": {
      "text/plain": "array([1., 2.])"
     },
     "execution_count": 7,
     "metadata": {},
     "output_type": "execute_result"
    }
   ],
   "source": [
    "reg.coef_"
   ]
  },
  {
   "cell_type": "code",
   "execution_count": 8,
   "metadata": {},
   "outputs": [
    {
     "data": {
      "text/plain": "3.0000000000000018"
     },
     "execution_count": 8,
     "metadata": {},
     "output_type": "execute_result"
    }
   ],
   "source": [
    "reg.intercept_"
   ]
  },
  {
   "cell_type": "code",
   "execution_count": 9,
   "metadata": {},
   "outputs": [
    {
     "data": {
      "text/plain": "array([16.])"
     },
     "execution_count": 9,
     "metadata": {},
     "output_type": "execute_result"
    }
   ],
   "source": [
    "reg.predict(np.array([[3, 5]]))"
   ]
  },
  {
   "cell_type": "code",
   "execution_count": 10,
   "metadata": {
    "scrolled": true
   },
   "outputs": [
    {
     "data": {
      "text/plain": "     Gewinn  Preis in Mio  Quadratmeter    Stadt\n0  119000.0         21.88        3938.0   Berlin\n1  250000.0         27.95        3986.0  München\n2  250000.0         16.09        2574.0     Köln\n3  145000.0         27.58        4155.0  München\n4  110000.0         23.76        3795.0   Berlin",
      "text/html": "<div>\n<style scoped>\n    .dataframe tbody tr th:only-of-type {\n        vertical-align: middle;\n    }\n\n    .dataframe tbody tr th {\n        vertical-align: top;\n    }\n\n    .dataframe thead th {\n        text-align: right;\n    }\n</style>\n<table border=\"1\" class=\"dataframe\">\n  <thead>\n    <tr style=\"text-align: right;\">\n      <th></th>\n      <th>Gewinn</th>\n      <th>Preis in Mio</th>\n      <th>Quadratmeter</th>\n      <th>Stadt</th>\n    </tr>\n  </thead>\n  <tbody>\n    <tr>\n      <th>0</th>\n      <td>119000.0</td>\n      <td>21.88</td>\n      <td>3938.0</td>\n      <td>Berlin</td>\n    </tr>\n    <tr>\n      <th>1</th>\n      <td>250000.0</td>\n      <td>27.95</td>\n      <td>3986.0</td>\n      <td>München</td>\n    </tr>\n    <tr>\n      <th>2</th>\n      <td>250000.0</td>\n      <td>16.09</td>\n      <td>2574.0</td>\n      <td>Köln</td>\n    </tr>\n    <tr>\n      <th>3</th>\n      <td>145000.0</td>\n      <td>27.58</td>\n      <td>4155.0</td>\n      <td>München</td>\n    </tr>\n    <tr>\n      <th>4</th>\n      <td>110000.0</td>\n      <td>23.76</td>\n      <td>3795.0</td>\n      <td>Berlin</td>\n    </tr>\n  </tbody>\n</table>\n</div>"
     },
     "execution_count": 10,
     "metadata": {},
     "output_type": "execute_result"
    }
   ],
   "source": [
    "import pandas as pd\n",
    "\n",
    "df = pd.read_csv(\"data/hotels.csv\")\n",
    "\n",
    "df.head()"
   ]
  },
  {
   "cell_type": "code",
   "execution_count": 11,
   "metadata": {},
   "outputs": [],
   "source": [
    "#df[[\"Gewinn\", \"Quadratmeter\"]]\n",
    "#df[df[\"Gewinn\"] > 250000]"
   ]
  },
  {
   "cell_type": "code",
   "execution_count": 12,
   "metadata": {},
   "outputs": [
    {
     "data": {
      "text/plain": "     Preis in Mio    Gewinn\n0           21.88  119000.0\n1           27.95  250000.0\n2           16.09  250000.0\n3           27.58  145000.0\n4           23.76  110000.0\n..            ...       ...\n145         10.50   45000.0\n146         23.80  250000.0\n147         12.86   32000.0\n148         15.80   35000.0\n149         17.09   90000.0\n\n[150 rows x 2 columns]",
      "text/html": "<div>\n<style scoped>\n    .dataframe tbody tr th:only-of-type {\n        vertical-align: middle;\n    }\n\n    .dataframe tbody tr th {\n        vertical-align: top;\n    }\n\n    .dataframe thead th {\n        text-align: right;\n    }\n</style>\n<table border=\"1\" class=\"dataframe\">\n  <thead>\n    <tr style=\"text-align: right;\">\n      <th></th>\n      <th>Preis in Mio</th>\n      <th>Gewinn</th>\n    </tr>\n  </thead>\n  <tbody>\n    <tr>\n      <th>0</th>\n      <td>21.88</td>\n      <td>119000.0</td>\n    </tr>\n    <tr>\n      <th>1</th>\n      <td>27.95</td>\n      <td>250000.0</td>\n    </tr>\n    <tr>\n      <th>2</th>\n      <td>16.09</td>\n      <td>250000.0</td>\n    </tr>\n    <tr>\n      <th>3</th>\n      <td>27.58</td>\n      <td>145000.0</td>\n    </tr>\n    <tr>\n      <th>4</th>\n      <td>23.76</td>\n      <td>110000.0</td>\n    </tr>\n    <tr>\n      <th>...</th>\n      <td>...</td>\n      <td>...</td>\n    </tr>\n    <tr>\n      <th>145</th>\n      <td>10.50</td>\n      <td>45000.0</td>\n    </tr>\n    <tr>\n      <th>146</th>\n      <td>23.80</td>\n      <td>250000.0</td>\n    </tr>\n    <tr>\n      <th>147</th>\n      <td>12.86</td>\n      <td>32000.0</td>\n    </tr>\n    <tr>\n      <th>148</th>\n      <td>15.80</td>\n      <td>35000.0</td>\n    </tr>\n    <tr>\n      <th>149</th>\n      <td>17.09</td>\n      <td>90000.0</td>\n    </tr>\n  </tbody>\n</table>\n<p>150 rows × 2 columns</p>\n</div>"
     },
     "execution_count": 12,
     "metadata": {},
     "output_type": "execute_result"
    }
   ],
   "source": [
    "df[[\"Preis in Mio\", \"Gewinn\"]]"
   ]
  },
  {
   "cell_type": "code",
   "execution_count": 13,
   "metadata": {},
   "outputs": [],
   "source": [
    "X = df[[\"Gewinn\", \"Quadratmeter\"]].values\n",
    "Y = df[[\"Preis in Mio\"]].values"
   ]
  },
  {
   "cell_type": "code",
   "execution_count": 14,
   "metadata": {},
   "outputs": [],
   "source": [
    "from sklearn.model_selection import train_test_split\n",
    "\n",
    "X_train, X_test, y_train, y_test = train_test_split(X, Y, random_state = 0, test_size = 0.25)"
   ]
  },
  {
   "cell_type": "code",
   "execution_count": 15,
   "metadata": {},
   "outputs": [
    {
     "data": {
      "text/plain": "LinearRegression()",
      "text/html": "<style>#sk-container-id-1 {color: black;background-color: white;}#sk-container-id-1 pre{padding: 0;}#sk-container-id-1 div.sk-toggleable {background-color: white;}#sk-container-id-1 label.sk-toggleable__label {cursor: pointer;display: block;width: 100%;margin-bottom: 0;padding: 0.3em;box-sizing: border-box;text-align: center;}#sk-container-id-1 label.sk-toggleable__label-arrow:before {content: \"▸\";float: left;margin-right: 0.25em;color: #696969;}#sk-container-id-1 label.sk-toggleable__label-arrow:hover:before {color: black;}#sk-container-id-1 div.sk-estimator:hover label.sk-toggleable__label-arrow:before {color: black;}#sk-container-id-1 div.sk-toggleable__content {max-height: 0;max-width: 0;overflow: hidden;text-align: left;background-color: #f0f8ff;}#sk-container-id-1 div.sk-toggleable__content pre {margin: 0.2em;color: black;border-radius: 0.25em;background-color: #f0f8ff;}#sk-container-id-1 input.sk-toggleable__control:checked~div.sk-toggleable__content {max-height: 200px;max-width: 100%;overflow: auto;}#sk-container-id-1 input.sk-toggleable__control:checked~label.sk-toggleable__label-arrow:before {content: \"▾\";}#sk-container-id-1 div.sk-estimator input.sk-toggleable__control:checked~label.sk-toggleable__label {background-color: #d4ebff;}#sk-container-id-1 div.sk-label input.sk-toggleable__control:checked~label.sk-toggleable__label {background-color: #d4ebff;}#sk-container-id-1 input.sk-hidden--visually {border: 0;clip: rect(1px 1px 1px 1px);clip: rect(1px, 1px, 1px, 1px);height: 1px;margin: -1px;overflow: hidden;padding: 0;position: absolute;width: 1px;}#sk-container-id-1 div.sk-estimator {font-family: monospace;background-color: #f0f8ff;border: 1px dotted black;border-radius: 0.25em;box-sizing: border-box;margin-bottom: 0.5em;}#sk-container-id-1 div.sk-estimator:hover {background-color: #d4ebff;}#sk-container-id-1 div.sk-parallel-item::after {content: \"\";width: 100%;border-bottom: 1px solid gray;flex-grow: 1;}#sk-container-id-1 div.sk-label:hover label.sk-toggleable__label {background-color: #d4ebff;}#sk-container-id-1 div.sk-serial::before {content: \"\";position: absolute;border-left: 1px solid gray;box-sizing: border-box;top: 0;bottom: 0;left: 50%;z-index: 0;}#sk-container-id-1 div.sk-serial {display: flex;flex-direction: column;align-items: center;background-color: white;padding-right: 0.2em;padding-left: 0.2em;position: relative;}#sk-container-id-1 div.sk-item {position: relative;z-index: 1;}#sk-container-id-1 div.sk-parallel {display: flex;align-items: stretch;justify-content: center;background-color: white;position: relative;}#sk-container-id-1 div.sk-item::before, #sk-container-id-1 div.sk-parallel-item::before {content: \"\";position: absolute;border-left: 1px solid gray;box-sizing: border-box;top: 0;bottom: 0;left: 50%;z-index: -1;}#sk-container-id-1 div.sk-parallel-item {display: flex;flex-direction: column;z-index: 1;position: relative;background-color: white;}#sk-container-id-1 div.sk-parallel-item:first-child::after {align-self: flex-end;width: 50%;}#sk-container-id-1 div.sk-parallel-item:last-child::after {align-self: flex-start;width: 50%;}#sk-container-id-1 div.sk-parallel-item:only-child::after {width: 0;}#sk-container-id-1 div.sk-dashed-wrapped {border: 1px dashed gray;margin: 0 0.4em 0.5em 0.4em;box-sizing: border-box;padding-bottom: 0.4em;background-color: white;}#sk-container-id-1 div.sk-label label {font-family: monospace;font-weight: bold;display: inline-block;line-height: 1.2em;}#sk-container-id-1 div.sk-label-container {text-align: center;}#sk-container-id-1 div.sk-container {/* jupyter's `normalize.less` sets `[hidden] { display: none; }` but bootstrap.min.css set `[hidden] { display: none !important; }` so we also need the `!important` here to be able to override the default hidden behavior on the sphinx rendered scikit-learn.org. See: https://github.com/scikit-learn/scikit-learn/issues/21755 */display: inline-block !important;position: relative;}#sk-container-id-1 div.sk-text-repr-fallback {display: none;}</style><div id=\"sk-container-id-1\" class=\"sk-top-container\"><div class=\"sk-text-repr-fallback\"><pre>LinearRegression()</pre><b>In a Jupyter environment, please rerun this cell to show the HTML representation or trust the notebook. <br />On GitHub, the HTML representation is unable to render, please try loading this page with nbviewer.org.</b></div><div class=\"sk-container\" hidden><div class=\"sk-item\"><div class=\"sk-estimator sk-toggleable\"><input class=\"sk-toggleable__control sk-hidden--visually\" id=\"sk-estimator-id-1\" type=\"checkbox\" checked><label for=\"sk-estimator-id-1\" class=\"sk-toggleable__label sk-toggleable__label-arrow\">LinearRegression</label><div class=\"sk-toggleable__content\"><pre>LinearRegression()</pre></div></div></div></div></div>"
     },
     "execution_count": 15,
     "metadata": {},
     "output_type": "execute_result"
    }
   ],
   "source": [
    "from sklearn.linear_model import LinearRegression\n",
    "\n",
    "model = LinearRegression()\n",
    "model.fit(X_train, y_train)"
   ]
  },
  {
   "cell_type": "code",
   "execution_count": 16,
   "metadata": {},
   "outputs": [
    {
     "name": "stdout",
     "output_type": "stream",
     "text": [
      "[6.48370247]\n"
     ]
    }
   ],
   "source": [
    "print(model.intercept_)"
   ]
  },
  {
   "cell_type": "code",
   "execution_count": 17,
   "metadata": {},
   "outputs": [
    {
     "name": "stdout",
     "output_type": "stream",
     "text": [
      "[[6.39855984e-06 3.89642288e-03]]\n"
     ]
    }
   ],
   "source": [
    "print(model.coef_)"
   ]
  },
  {
   "cell_type": "code",
   "execution_count": 18,
   "metadata": {},
   "outputs": [],
   "source": [
    "# 6.48370247 + [Gewinn] * 6.39855984e-06 + [Quadratmeter] * 3.89642288e-03"
   ]
  },
  {
   "cell_type": "code",
   "execution_count": 19,
   "metadata": {},
   "outputs": [
    {
     "data": {
      "text/plain": "array([[5.600e+04, 2.218e+03],\n       [7.100e+04, 3.162e+03],\n       [1.380e+05, 1.461e+03],\n       [1.200e+05, 4.681e+03],\n       [2.000e+03, 8.200e+01],\n       [1.630e+05, 3.619e+03],\n       [3.400e+04, 1.847e+03],\n       [2.600e+04, 1.241e+03],\n       [2.500e+05, 1.355e+03],\n       [2.500e+05, 5.702e+03],\n       [2.270e+05, 1.696e+03],\n       [8.300e+04, 4.561e+03],\n       [1.250e+05, 3.910e+03],\n       [9.900e+04, 2.630e+03],\n       [6.400e+04, 1.993e+03],\n       [2.300e+04, 7.030e+02],\n       [9.700e+04, 3.674e+03],\n       [3.000e+03, 1.140e+02],\n       [2.100e+04, 1.215e+03],\n       [1.020e+05, 2.700e+03],\n       [1.250e+05, 5.643e+03],\n       [4.000e+03, 1.710e+02],\n       [8.400e+04, 3.815e+03],\n       [1.140e+05, 3.706e+03],\n       [1.350e+05, 3.224e+03],\n       [1.340e+05, 2.412e+03],\n       [1.560e+05, 5.099e+03],\n       [1.420e+05, 5.427e+03],\n       [6.200e+04, 1.799e+03],\n       [3.200e+04, 1.492e+03],\n       [3.500e+04, 1.021e+03],\n       [1.900e+04, 7.230e+02],\n       [2.500e+05, 5.250e+02],\n       [4.400e+04, 7.880e+02],\n       [1.210e+05, 2.220e+03],\n       [2.900e+04, 1.625e+03],\n       [8.500e+04, 2.644e+03],\n       [5.700e+04, 2.952e+03]])"
     },
     "execution_count": 19,
     "metadata": {},
     "output_type": "execute_result"
    }
   ],
   "source": [
    "X_test"
   ]
  },
  {
   "cell_type": "code",
   "execution_count": 20,
   "metadata": {},
   "outputs": [
    {
     "data": {
      "text/plain": "array([[15.48428777],\n       [19.25848937],\n       [13.05937756],\n       [25.49068515],\n       [ 6.81600627],\n       [21.62782213],\n       [13.89794657],\n       [11.48552582],\n       [13.36299543],\n       [30.30074569],\n       [14.54450876],\n       [24.78636769],\n       [22.51853591],\n       [17.36475207],\n       [14.6587811 ],\n       [ 9.37005463],\n       [21.41982044],\n       [ 6.94709036],\n       [11.35222603],\n       [17.65669735],\n       [29.27103676],\n       [ 7.17558502],\n       [21.88603479],\n       [21.65328149],\n       [19.90957541],\n       [16.73928148],\n       [27.34973807],\n       [28.53818494],\n       [13.89007794],\n       [12.50191932],\n       [10.68589983],\n       [ 9.42238885],\n       [10.12896444],\n       [ 9.83562033],\n       [15.90798701],\n       [13.00094789],\n       [17.32972215],\n       [18.35066072]])"
     },
     "execution_count": 20,
     "metadata": {},
     "output_type": "execute_result"
    }
   ],
   "source": [
    "y_test_pred = model.predict(X_test)\n",
    "y_test_pred"
   ]
  },
  {
   "cell_type": "code",
   "execution_count": 21,
   "metadata": {},
   "outputs": [
    {
     "data": {
      "text/plain": "array([[14.56],\n       [16.32],\n       [13.09],\n       [22.87],\n       [ 8.94],\n       [19.13],\n       [13.77],\n       [ 9.63],\n       [10.41],\n       [32.78],\n       [12.98],\n       [23.6 ],\n       [20.27],\n       [21.26],\n       [13.86],\n       [ 9.76],\n       [24.81],\n       [ 6.62],\n       [ 8.69],\n       [14.16],\n       [28.49],\n       [ 6.95],\n       [22.4 ],\n       [24.87],\n       [16.94],\n       [15.54],\n       [24.78],\n       [30.14],\n       [16.15],\n       [17.75],\n       [ 7.91],\n       [ 7.98],\n       [ 6.73],\n       [ 6.3 ],\n       [13.21],\n       [10.94],\n       [19.59],\n       [15.18]])"
     },
     "execution_count": 21,
     "metadata": {},
     "output_type": "execute_result"
    }
   ],
   "source": [
    "y_test"
   ]
  },
  {
   "cell_type": "code",
   "execution_count": 22,
   "metadata": {
    "scrolled": true
   },
   "outputs": [
    {
     "name": "stdout",
     "output_type": "stream",
     "text": [
      "Vorhersage - Wahrer Wert (Testdaten)\n",
      "15.484287770456307 - 14.56\n",
      "19.25848936697959 - 16.32\n",
      "13.059377556544964 - 13.09\n",
      "25.490685154062852 - 22.87\n",
      "6.8160062670562525 - 8.94\n",
      "21.627822128095936 - 19.13\n",
      "13.89794656549663 - 13.77\n",
      "11.48552582135802 - 9.63\n",
      "13.362995432755909 - 10.41\n",
      "30.300745693396017 - 32.78\n",
      "14.544508758730883 - 12.98\n",
      "24.786367694531798 - 23.6\n",
      "22.5185359125309 - 20.27\n",
      "17.364752070043462 - 21.26\n",
      "14.658781101070202 - 13.86\n",
      "9.370054632254531 - 9.76\n",
      "21.419820437400865 - 24.81\n",
      "6.947090359060695 - 6.62\n",
      "11.352226027295266 - 8.69\n",
      "17.656697351169136 - 14.16\n",
      "29.271036764081238 - 28.49\n",
      "7.1755850230725 - 6.95\n",
      "21.886034785667135 - 22.4\n",
      "21.653281486765614 - 24.87\n",
      "19.90957541499908 - 16.94\n",
      "16.739281476364937 - 15.54\n",
      "27.349738072086637 - 24.78\n",
      "28.538184939132954 - 30.14\n",
      "13.890077942623035 - 16.15\n",
      "12.501919323322051 - 17.75\n",
      "10.685899826208408 - 7.91\n",
      "9.422388850520344 - 7.98\n",
      "10.128964442111489 - 6.73\n",
      "9.835620333614967 - 6.3\n",
      "15.90798700549315 - 13.21\n",
      "13.00094788689616 - 10.94\n",
      "17.329722152677313 - 19.59\n",
      "18.350660724427478 - 15.18\n"
     ]
    }
   ],
   "source": [
    "print(\"Vorhersage - Wahrer Wert (Testdaten)\")\n",
    "for i in range(0, len(y_test_pred)):\n",
    "    print(str(y_test_pred[i][0]) + \" - \" + str(y_test[i][0]))"
   ]
  },
  {
   "cell_type": "code",
   "execution_count": 22,
   "metadata": {},
   "outputs": [],
   "source": []
  },
  {
   "cell_type": "code",
   "execution_count": 22,
   "metadata": {},
   "outputs": [],
   "source": []
  }
 ],
 "metadata": {
  "kernelspec": {
   "display_name": "Python 3",
   "language": "python",
   "name": "python3"
  },
  "language_info": {
   "codemirror_mode": {
    "name": "ipython",
    "version": 3
   },
   "file_extension": ".py",
   "mimetype": "text/x-python",
   "name": "python",
   "nbconvert_exporter": "python",
   "pygments_lexer": "ipython3",
   "version": "3.8.5"
  }
 },
 "nbformat": 4,
 "nbformat_minor": 2
}
