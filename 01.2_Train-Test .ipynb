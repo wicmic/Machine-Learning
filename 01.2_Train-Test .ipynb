{
 "cells": [
  {
   "cell_type": "markdown",
   "metadata": {},
   "source": [
    "## Train / Test in Python"
   ]
  },
  {
   "cell_type": "code",
   "execution_count": 1,
   "metadata": {},
   "outputs": [
    {
     "data": {
      "text/plain": "   Quadratmeter  Verkaufspreis\n0            70         351000\n1            72         390000\n2            91         473000\n3            58         282000\n4            49         300000",
      "text/html": "<div>\n<style scoped>\n    .dataframe tbody tr th:only-of-type {\n        vertical-align: middle;\n    }\n\n    .dataframe tbody tr th {\n        vertical-align: top;\n    }\n\n    .dataframe thead th {\n        text-align: right;\n    }\n</style>\n<table border=\"1\" class=\"dataframe\">\n  <thead>\n    <tr style=\"text-align: right;\">\n      <th></th>\n      <th>Quadratmeter</th>\n      <th>Verkaufspreis</th>\n    </tr>\n  </thead>\n  <tbody>\n    <tr>\n      <th>0</th>\n      <td>70</td>\n      <td>351000</td>\n    </tr>\n    <tr>\n      <th>1</th>\n      <td>72</td>\n      <td>390000</td>\n    </tr>\n    <tr>\n      <th>2</th>\n      <td>91</td>\n      <td>473000</td>\n    </tr>\n    <tr>\n      <th>3</th>\n      <td>58</td>\n      <td>282000</td>\n    </tr>\n    <tr>\n      <th>4</th>\n      <td>49</td>\n      <td>300000</td>\n    </tr>\n  </tbody>\n</table>\n</div>"
     },
     "execution_count": 1,
     "metadata": {},
     "output_type": "execute_result"
    }
   ],
   "source": [
    "import pandas as pd\n",
    "\n",
    "df = pd.read_csv(\"data/wohnungspreise.csv\")\n",
    "df.head()\n"
   ]
  },
  {
   "cell_type": "code",
   "execution_count": 2,
   "metadata": {},
   "outputs": [],
   "source": [
    "from sklearn.model_selection import train_test_split\n",
    "\n",
    "X = df[[\"Quadratmeter\"]].values\n",
    "Y = df[[\"Verkaufspreis\"]].values"
   ]
  },
  {
   "cell_type": "code",
   "execution_count": 3,
   "metadata": {},
   "outputs": [
    {
     "data": {
      "text/plain": "[[1, [21, 22]], [3, 4], [5, 6]]"
     },
     "execution_count": 3,
     "metadata": {},
     "output_type": "execute_result"
    }
   ],
   "source": [
    "a = [[1,[21,22]], [3,4], [5,6]]\n",
    "a"
   ]
  },
  {
   "cell_type": "code",
   "execution_count": 4,
   "metadata": {},
   "outputs": [],
   "source": [
    "x,y,z = a "
   ]
  },
  {
   "cell_type": "code",
   "execution_count": 5,
   "metadata": {},
   "outputs": [
    {
     "data": {
      "text/plain": "[5, 6]"
     },
     "execution_count": 5,
     "metadata": {},
     "output_type": "execute_result"
    }
   ],
   "source": [
    "z"
   ]
  },
  {
   "cell_type": "code",
   "execution_count": 6,
   "metadata": {},
   "outputs": [
    {
     "data": {
      "text/plain": "[array([[ 98],\n        [ 71],\n        [ 45],\n        [ 54],\n        [ 49],\n        [ 60],\n        [ 74],\n        [ 65],\n        [ 60],\n        [ 89],\n        [ 33],\n        [ 70],\n        [109],\n        [ 25],\n        [ 50],\n        [ 47],\n        [ 62],\n        [ 11],\n        [ 55],\n        [ 55],\n        [ 42],\n        [ 60],\n        [ 61],\n        [ 81],\n        [ 62],\n        [ 50],\n        [ 70],\n        [ 76],\n        [ 88],\n        [ 72],\n        [ 35],\n        [ 56],\n        [ 72],\n        [ 48],\n        [ 52],\n        [ 64],\n        [ 93],\n        [ 68],\n        [ 51],\n        [ 40],\n        [ 51],\n        [ 58],\n        [ 70],\n        [ 48],\n        [ 79]], dtype=int64),\n array([[39],\n        [70],\n        [78],\n        [88],\n        [91]], dtype=int64),\n array([[465000],\n        [406000],\n        [207000],\n        [256000],\n        [300000],\n        [328000],\n        [322000],\n        [331000],\n        [282000],\n        [499000],\n        [181000],\n        [352000],\n        [576000],\n        [101000],\n        [215000],\n        [239000],\n        [287000],\n        [  7000],\n        [322000],\n        [294000],\n        [229000],\n        [277000],\n        [308000],\n        [397000],\n        [328000],\n        [286000],\n        [376000],\n        [407000],\n        [426000],\n        [390000],\n        [165000],\n        [317000],\n        [363000],\n        [228000],\n        [256000],\n        [305000],\n        [424000],\n        [383000],\n        [289000],\n        [225000],\n        [254000],\n        [282000],\n        [351000],\n        [263000],\n        [393000]], dtype=int64),\n array([[273000],\n        [358000],\n        [414000],\n        [443000],\n        [473000]], dtype=int64)]"
     },
     "execution_count": 6,
     "metadata": {},
     "output_type": "execute_result"
    }
   ],
   "source": [
    "train_test_split(df[[\"Quadratmeter\"]].values, df[[\"Verkaufspreis\"]].values, random_state = 0, test_size = 0.1)"
   ]
  },
  {
   "cell_type": "code",
   "execution_count": 7,
   "metadata": {},
   "outputs": [],
   "source": [
    "X_train, X_test, y_train, y_test = train_test_split(df[[\"Quadratmeter\"]].values, df[[\"Verkaufspreis\"]].values, random_state = 0, test_size = 0.25)"
   ]
  },
  {
   "cell_type": "markdown",
   "metadata": {},
   "source": [
    "#### Übliche Namenskonvention: \n",
    "Großes X: Gegebene X-Werte\n",
    "\n",
    "Kleines y: Werte, nach denen sich das Modell ausrichtet (Label / Learning-Target)"
   ]
  },
  {
   "cell_type": "code",
   "execution_count": 8,
   "metadata": {},
   "outputs": [
    {
     "data": {
      "text/plain": "<Figure size 640x480 with 1 Axes>",
      "image/png": "[encoded data removed]"
     },
     "metadata": {},
     "output_type": "display_data"
    }
   ],
   "source": [
    "%matplotlib inline\n",
    "import matplotlib.pyplot as plt\n",
    "\n",
    "plt.scatter(X_train, y_train, color = \"blue\")\n",
    "plt.scatter(X_test, y_test, color = \"red\")\n",
    "plt.show()"
   ]
  },
  {
   "cell_type": "code",
   "execution_count": 9,
   "metadata": {},
   "outputs": [
    {
     "name": "stdout",
     "output_type": "stream",
     "text": [
      "Intercept: [-11170.16669668]\n",
      "Coef: [[5282.55588241]]\n"
     ]
    }
   ],
   "source": [
    "from sklearn.linear_model import LinearRegression\n",
    "\n",
    "model = LinearRegression()\n",
    "model.fit(X_train, y_train)\n",
    "#model?\n",
    "print(\"Intercept: \" + str(model.intercept_))\n",
    "print(\"Coef: \" + str(model.coef_))"
   ]
  },
  {
   "cell_type": "code",
   "execution_count": 10,
   "metadata": {},
   "outputs": [
    {
     "data": {
      "text/plain": "<Figure size 640x480 with 1 Axes>",
      "image/png": "[encoded data removed]"
     },
     "metadata": {},
     "output_type": "display_data"
    }
   ],
   "source": [
    "%matplotlib inline\n",
    "import matplotlib.pyplot as plt\n",
    "\n",
    "Y_predicted = model.predict(X_test)\n",
    "\n",
    "plt.scatter(X_test, y_test, color = \"red\")\n",
    "plt.scatter(X_test, Y_predicted)\n",
    "plt.show()"
   ]
  },
  {
   "cell_type": "code",
   "execution_count": 11,
   "metadata": {},
   "outputs": [
    {
     "data": {
      "text/plain": "array([[194849.51271738],\n       [358608.74507214],\n       [400869.19213144],\n       [453694.75095555],\n       [469542.41860279],\n       [506520.30977967],\n       [363891.30095455],\n       [226544.84801185],\n       [274087.85095355],\n       [247675.07154149],\n       [305783.18624802],\n       [379738.96860179],\n       [332195.96566008]])"
     },
     "execution_count": 11,
     "metadata": {},
     "output_type": "execute_result"
    }
   ],
   "source": [
    "Y_predicted"
   ]
  },
  {
   "cell_type": "code",
   "execution_count": 12,
   "metadata": {},
   "outputs": [],
   "source": [
    "def f(x):\n",
    "    a = x+1\n",
    "    b = x*2\n",
    "    return([a,b])"
   ]
  },
  {
   "cell_type": "code",
   "execution_count": 13,
   "metadata": {},
   "outputs": [
    {
     "name": "stdout",
     "output_type": "stream",
     "text": [
      "11\n",
      "20\n"
     ]
    }
   ],
   "source": [
    "m,n = f(10)\n",
    "print(m)\n",
    "print(n)"
   ]
  },
  {
   "cell_type": "code",
   "execution_count": 13,
   "metadata": {},
   "outputs": [],
   "source": []
  }
 ],
 "metadata": {
  "kernelspec": {
   "display_name": "Python 3",
   "language": "python",
   "name": "python3"
  },
  "language_info": {
   "codemirror_mode": {
    "name": "ipython",
    "version": 3
   },
   "file_extension": ".py",
   "mimetype": "text/x-python",
   "name": "python",
   "nbconvert_exporter": "python",
   "pygments_lexer": "ipython3",
   "version": "3.8.5"
  }
 },
 "nbformat": 4,
 "nbformat_minor": 2
}
