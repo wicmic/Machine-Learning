{
 "cells": [
  {
   "cell_type": "markdown",
   "metadata": {},
   "source": [
    "# K-Fold Cross-Validation 1"
   ]
  },
  {
   "cell_type": "code",
   "execution_count": 1,
   "metadata": {},
   "outputs": [
    {
     "data": {
      "text/plain": "      Gewinn  Preis in Mio  Quadratmeter    Stadt\n0   119000.0         21.88        3938.0   Berlin\n1   250000.0         27.95        3986.0  München\n2   250000.0         16.09        2574.0     Köln\n3   145000.0         27.58        4155.0  München\n4   110000.0         23.76        3795.0   Berlin\n5   246000.0         22.88        2773.0  München\n6    54000.0         13.25         634.0  München\n7     2000.0          8.94          82.0  München\n8   114000.0         24.87        3706.0  München\n9    47000.0         14.11        1692.0   Berlin\n10   54000.0         11.65        1989.0     Köln\n11  124000.0         17.26        2616.0   Berlin\n12  125000.0         18.45        3358.0     Köln\n13   62000.0         17.08        1941.0  München\n14  250000.0         19.32        1831.0  München\n15   24000.0          8.48         800.0   Berlin\n16  102000.0         14.16        2700.0     Köln\n17   26000.0         13.84        1257.0  München\n18   85000.0         19.59        2644.0   Berlin\n19  182000.0         18.64        2001.0  München",
      "text/html": "<div>\n<style scoped>\n    .dataframe tbody tr th:only-of-type {\n        vertical-align: middle;\n    }\n\n    .dataframe tbody tr th {\n        vertical-align: top;\n    }\n\n    .dataframe thead th {\n        text-align: right;\n    }\n</style>\n<table border=\"1\" class=\"dataframe\">\n  <thead>\n    <tr style=\"text-align: right;\">\n      <th></th>\n      <th>Gewinn</th>\n      <th>Preis in Mio</th>\n      <th>Quadratmeter</th>\n      <th>Stadt</th>\n    </tr>\n  </thead>\n  <tbody>\n    <tr>\n      <th>0</th>\n      <td>119000.0</td>\n      <td>21.88</td>\n      <td>3938.0</td>\n      <td>Berlin</td>\n    </tr>\n    <tr>\n      <th>1</th>\n      <td>250000.0</td>\n      <td>27.95</td>\n      <td>3986.0</td>\n      <td>München</td>\n    </tr>\n    <tr>\n      <th>2</th>\n      <td>250000.0</td>\n      <td>16.09</td>\n      <td>2574.0</td>\n      <td>Köln</td>\n    </tr>\n    <tr>\n      <th>3</th>\n      <td>145000.0</td>\n      <td>27.58</td>\n      <td>4155.0</td>\n      <td>München</td>\n    </tr>\n    <tr>\n      <th>4</th>\n      <td>110000.0</td>\n      <td>23.76</td>\n      <td>3795.0</td>\n      <td>Berlin</td>\n    </tr>\n    <tr>\n      <th>5</th>\n      <td>246000.0</td>\n      <td>22.88</td>\n      <td>2773.0</td>\n      <td>München</td>\n    </tr>\n    <tr>\n      <th>6</th>\n      <td>54000.0</td>\n      <td>13.25</td>\n      <td>634.0</td>\n      <td>München</td>\n    </tr>\n    <tr>\n      <th>7</th>\n      <td>2000.0</td>\n      <td>8.94</td>\n      <td>82.0</td>\n      <td>München</td>\n    </tr>\n    <tr>\n      <th>8</th>\n      <td>114000.0</td>\n      <td>24.87</td>\n      <td>3706.0</td>\n      <td>München</td>\n    </tr>\n    <tr>\n      <th>9</th>\n      <td>47000.0</td>\n      <td>14.11</td>\n      <td>1692.0</td>\n      <td>Berlin</td>\n    </tr>\n    <tr>\n      <th>10</th>\n      <td>54000.0</td>\n      <td>11.65</td>\n      <td>1989.0</td>\n      <td>Köln</td>\n    </tr>\n    <tr>\n      <th>11</th>\n      <td>124000.0</td>\n      <td>17.26</td>\n      <td>2616.0</td>\n      <td>Berlin</td>\n    </tr>\n    <tr>\n      <th>12</th>\n      <td>125000.0</td>\n      <td>18.45</td>\n      <td>3358.0</td>\n      <td>Köln</td>\n    </tr>\n    <tr>\n      <th>13</th>\n      <td>62000.0</td>\n      <td>17.08</td>\n      <td>1941.0</td>\n      <td>München</td>\n    </tr>\n    <tr>\n      <th>14</th>\n      <td>250000.0</td>\n      <td>19.32</td>\n      <td>1831.0</td>\n      <td>München</td>\n    </tr>\n    <tr>\n      <th>15</th>\n      <td>24000.0</td>\n      <td>8.48</td>\n      <td>800.0</td>\n      <td>Berlin</td>\n    </tr>\n    <tr>\n      <th>16</th>\n      <td>102000.0</td>\n      <td>14.16</td>\n      <td>2700.0</td>\n      <td>Köln</td>\n    </tr>\n    <tr>\n      <th>17</th>\n      <td>26000.0</td>\n      <td>13.84</td>\n      <td>1257.0</td>\n      <td>München</td>\n    </tr>\n    <tr>\n      <th>18</th>\n      <td>85000.0</td>\n      <td>19.59</td>\n      <td>2644.0</td>\n      <td>Berlin</td>\n    </tr>\n    <tr>\n      <th>19</th>\n      <td>182000.0</td>\n      <td>18.64</td>\n      <td>2001.0</td>\n      <td>München</td>\n    </tr>\n  </tbody>\n</table>\n</div>"
     },
     "execution_count": 1,
     "metadata": {},
     "output_type": "execute_result"
    }
   ],
   "source": [
    "import pandas as pd\n",
    "\n",
    "df = pd.read_csv(\"data/hotels.csv\")[:20]  # Nur 20, damit man sieht, was Split macht.\n",
    "#df = pd.read_csv(\"data/hotels.csv\")\n",
    "\n",
    "df"
   ]
  },
  {
   "cell_type": "code",
   "execution_count": 2,
   "metadata": {},
   "outputs": [],
   "source": [
    "X = df[[\"Gewinn\", \"Quadratmeter\"]].values\n",
    "Y = df[[\"Preis in Mio\"]].values"
   ]
  },
  {
   "cell_type": "code",
   "execution_count": 3,
   "metadata": {},
   "outputs": [
    {
     "data": {
      "text/plain": "array([[1.190e+05, 3.938e+03],\n       [2.500e+05, 3.986e+03],\n       [2.500e+05, 2.574e+03],\n       [1.450e+05, 4.155e+03],\n       [1.100e+05, 3.795e+03],\n       [2.460e+05, 2.773e+03],\n       [5.400e+04, 6.340e+02],\n       [2.000e+03, 8.200e+01],\n       [1.140e+05, 3.706e+03],\n       [4.700e+04, 1.692e+03],\n       [5.400e+04, 1.989e+03],\n       [1.240e+05, 2.616e+03],\n       [1.250e+05, 3.358e+03],\n       [6.200e+04, 1.941e+03],\n       [2.500e+05, 1.831e+03],\n       [2.400e+04, 8.000e+02],\n       [1.020e+05, 2.700e+03],\n       [2.600e+04, 1.257e+03],\n       [8.500e+04, 2.644e+03],\n       [1.820e+05, 2.001e+03]])"
     },
     "execution_count": 3,
     "metadata": {},
     "output_type": "execute_result"
    }
   ],
   "source": [
    "X"
   ]
  },
  {
   "cell_type": "code",
   "execution_count": 4,
   "metadata": {},
   "outputs": [],
   "source": [
    "from sklearn.model_selection import KFold\n",
    "from sklearn.linear_model import LinearRegression\n",
    "\n",
    "kf = KFold()"
   ]
  },
  {
   "cell_type": "code",
   "execution_count": 5,
   "metadata": {},
   "outputs": [
    {
     "data": {
      "text/plain": "<generator object _BaseKFold.split at 0x000001AA8D8A5BD0>"
     },
     "execution_count": 5,
     "metadata": {},
     "output_type": "execute_result"
    }
   ],
   "source": [
    "#Eine Art Iterationsobjekt\n",
    "kf.split(X)"
   ]
  },
  {
   "cell_type": "code",
   "execution_count": 6,
   "metadata": {},
   "outputs": [
    {
     "name": "stdout",
     "output_type": "stream",
     "text": [
      "train: [ 4  5  6  7  8  9 10 11 12 13 14 15 16 17 18 19]\n",
      "test: [0 1 2 3]\n",
      "---------------------------\n",
      "train: [ 0  1  2  3  8  9 10 11 12 13 14 15 16 17 18 19]\n",
      "test: [4 5 6 7]\n",
      "---------------------------\n",
      "train: [ 0  1  2  3  4  5  6  7 12 13 14 15 16 17 18 19]\n",
      "test: [ 8  9 10 11]\n",
      "---------------------------\n",
      "train: [ 0  1  2  3  4  5  6  7  8  9 10 11 16 17 18 19]\n",
      "test: [12 13 14 15]\n",
      "---------------------------\n",
      "train: [ 0  1  2  3  4  5  6  7  8  9 10 11 12 13 14 15]\n",
      "test: [16 17 18 19]\n",
      "---------------------------\n"
     ]
    }
   ],
   "source": [
    "for train_index, test_index in kf.split(X):\n",
    "    print(\"train: \" + str(train_index))\n",
    "    print(\"test: \" + str(test_index))\n",
    "    print(\"---------------------------\")"
   ]
  },
  {
   "cell_type": "code",
   "execution_count": 8,
   "metadata": {},
   "outputs": [
    {
     "name": "stdout",
     "output_type": "stream",
     "text": [
      "train: [ 4  5  6  7  8  9 10 11 12 13 14 15 16 17 18 19]\n",
      "test: [0 1 2 3]\n",
      "-----------\n",
      "0.4689610405646514\n",
      "train: [ 0  1  2  3  8  9 10 11 12 13 14 15 16 17 18 19]\n",
      "test: [4 5 6 7]\n",
      "-----------\n",
      "0.8261853962315948\n",
      "train: [ 0  1  2  3  4  5  6  7 12 13 14 15 16 17 18 19]\n",
      "test: [ 8  9 10 11]\n",
      "-----------\n",
      "0.7506249667390328\n",
      "train: [ 0  1  2  3  4  5  6  7  8  9 10 11 16 17 18 19]\n",
      "test: [12 13 14 15]\n",
      "-----------\n",
      "0.7172283361721099\n",
      "train: [ 0  1  2  3  4  5  6  7  8  9 10 11 12 13 14 15]\n",
      "test: [16 17 18 19]\n",
      "-----------\n",
      "-0.014112642069028514\n"
     ]
    }
   ],
   "source": [
    "for train_index, test_index in kf.split(X):\n",
    "    print(\"train: \" + str(train_index))\n",
    "    print(\"test: \" + str(test_index))\n",
    "    print(\"-----------\")\n",
    "    X_test = X[test_index]\n",
    "    X_train = X[train_index]\n",
    "    \n",
    "    y_test = Y[test_index]\n",
    "    y_train = Y[train_index]\n",
    "    \n",
    "    model = LinearRegression()\n",
    "    model.fit(X_train, y_train)\n",
    "    \n",
    "    print(model.score(X_test, y_test))\n"
   ]
  },
  {
   "cell_type": "code",
   "execution_count": null,
   "outputs": [],
   "source": [],
   "metadata": {
    "collapsed": false,
    "pycharm": {
     "is_executing": true
    }
   }
  }
 ],
 "metadata": {
  "kernelspec": {
   "display_name": "Python 3",
   "language": "python",
   "name": "python3"
  },
  "language_info": {
   "codemirror_mode": {
    "name": "ipython",
    "version": 3
   },
   "file_extension": ".py",
   "mimetype": "text/x-python",
   "name": "python",
   "nbconvert_exporter": "python",
   "pygments_lexer": "ipython3",
   "version": "3.8.5"
  }
 },
 "nbformat": 4,
 "nbformat_minor": 2
}
