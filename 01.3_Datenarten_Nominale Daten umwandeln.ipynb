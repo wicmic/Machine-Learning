{
 "cells": [
  {
   "cell_type": "markdown",
   "metadata": {},
   "source": [
    "# Nominale Daten und Lineare Regression"
   ]
  },
  {
   "cell_type": "code",
   "execution_count": 2,
   "metadata": {},
   "outputs": [
    {
     "data": {
      "text/plain": "     Gewinn  Preis in Mio  Quadratmeter    Stadt\n0  119000.0         21.88        3938.0   Berlin\n1  250000.0         27.95        3986.0  München\n2  250000.0         16.09        2574.0     Köln\n3  145000.0         27.58        4155.0  München\n4  110000.0         23.76        3795.0   Berlin",
      "text/html": "<div>\n<style scoped>\n    .dataframe tbody tr th:only-of-type {\n        vertical-align: middle;\n    }\n\n    .dataframe tbody tr th {\n        vertical-align: top;\n    }\n\n    .dataframe thead th {\n        text-align: right;\n    }\n</style>\n<table border=\"1\" class=\"dataframe\">\n  <thead>\n    <tr style=\"text-align: right;\">\n      <th></th>\n      <th>Gewinn</th>\n      <th>Preis in Mio</th>\n      <th>Quadratmeter</th>\n      <th>Stadt</th>\n    </tr>\n  </thead>\n  <tbody>\n    <tr>\n      <th>0</th>\n      <td>119000.0</td>\n      <td>21.88</td>\n      <td>3938.0</td>\n      <td>Berlin</td>\n    </tr>\n    <tr>\n      <th>1</th>\n      <td>250000.0</td>\n      <td>27.95</td>\n      <td>3986.0</td>\n      <td>München</td>\n    </tr>\n    <tr>\n      <th>2</th>\n      <td>250000.0</td>\n      <td>16.09</td>\n      <td>2574.0</td>\n      <td>Köln</td>\n    </tr>\n    <tr>\n      <th>3</th>\n      <td>145000.0</td>\n      <td>27.58</td>\n      <td>4155.0</td>\n      <td>München</td>\n    </tr>\n    <tr>\n      <th>4</th>\n      <td>110000.0</td>\n      <td>23.76</td>\n      <td>3795.0</td>\n      <td>Berlin</td>\n    </tr>\n  </tbody>\n</table>\n</div>"
     },
     "execution_count": 1,
     "metadata": {},
     "output_type": "execute_result"
    },
    {
     "data": {
      "text/plain": "     Gewinn  Preis in Mio  Quadratmeter    Stadt\n0  119000.0         21.88        3938.0   Berlin\n1  250000.0         27.95        3986.0  München\n2  250000.0         16.09        2574.0     Köln\n3  145000.0         27.58        4155.0  München\n4  110000.0         23.76        3795.0   Berlin",
      "text/html": "<div>\n<style scoped>\n    .dataframe tbody tr th:only-of-type {\n        vertical-align: middle;\n    }\n\n    .dataframe tbody tr th {\n        vertical-align: top;\n    }\n\n    .dataframe thead th {\n        text-align: right;\n    }\n</style>\n<table border=\"1\" class=\"dataframe\">\n  <thead>\n    <tr style=\"text-align: right;\">\n      <th></th>\n      <th>Gewinn</th>\n      <th>Preis in Mio</th>\n      <th>Quadratmeter</th>\n      <th>Stadt</th>\n    </tr>\n  </thead>\n  <tbody>\n    <tr>\n      <th>0</th>\n      <td>119000.0</td>\n      <td>21.88</td>\n      <td>3938.0</td>\n      <td>Berlin</td>\n    </tr>\n    <tr>\n      <th>1</th>\n      <td>250000.0</td>\n      <td>27.95</td>\n      <td>3986.0</td>\n      <td>München</td>\n    </tr>\n    <tr>\n      <th>2</th>\n      <td>250000.0</td>\n      <td>16.09</td>\n      <td>2574.0</td>\n      <td>Köln</td>\n    </tr>\n    <tr>\n      <th>3</th>\n      <td>145000.0</td>\n      <td>27.58</td>\n      <td>4155.0</td>\n      <td>München</td>\n    </tr>\n    <tr>\n      <th>4</th>\n      <td>110000.0</td>\n      <td>23.76</td>\n      <td>3795.0</td>\n      <td>Berlin</td>\n    </tr>\n  </tbody>\n</table>\n</div>"
     },
     "execution_count": 2,
     "metadata": {},
     "output_type": "execute_result"
    }
   ],
   "source": [
    "import pandas as pd\n",
    "\n",
    "df0 = pd.read_csv(\"data/hotels.csv\")\n",
    "df0.head()"
   ]
  },
  {
   "cell_type": "code",
   "execution_count": 3,
   "metadata": {},
   "outputs": [
    {
     "data": {
      "text/plain": "     Gewinn  Preis in Mio  Quadratmeter  Stadt_Berlin  Stadt_Köln  \\\n0  119000.0         21.88        3938.0             1           0   \n1  250000.0         27.95        3986.0             0           0   \n2  250000.0         16.09        2574.0             0           1   \n3  145000.0         27.58        4155.0             0           0   \n4  110000.0         23.76        3795.0             1           0   \n\n   Stadt_München  \n0              0  \n1              1  \n2              0  \n3              1  \n4              0  ",
      "text/html": "<div>\n<style scoped>\n    .dataframe tbody tr th:only-of-type {\n        vertical-align: middle;\n    }\n\n    .dataframe tbody tr th {\n        vertical-align: top;\n    }\n\n    .dataframe thead th {\n        text-align: right;\n    }\n</style>\n<table border=\"1\" class=\"dataframe\">\n  <thead>\n    <tr style=\"text-align: right;\">\n      <th></th>\n      <th>Gewinn</th>\n      <th>Preis in Mio</th>\n      <th>Quadratmeter</th>\n      <th>Stadt_Berlin</th>\n      <th>Stadt_Köln</th>\n      <th>Stadt_München</th>\n    </tr>\n  </thead>\n  <tbody>\n    <tr>\n      <th>0</th>\n      <td>119000.0</td>\n      <td>21.88</td>\n      <td>3938.0</td>\n      <td>1</td>\n      <td>0</td>\n      <td>0</td>\n    </tr>\n    <tr>\n      <th>1</th>\n      <td>250000.0</td>\n      <td>27.95</td>\n      <td>3986.0</td>\n      <td>0</td>\n      <td>0</td>\n      <td>1</td>\n    </tr>\n    <tr>\n      <th>2</th>\n      <td>250000.0</td>\n      <td>16.09</td>\n      <td>2574.0</td>\n      <td>0</td>\n      <td>1</td>\n      <td>0</td>\n    </tr>\n    <tr>\n      <th>3</th>\n      <td>145000.0</td>\n      <td>27.58</td>\n      <td>4155.0</td>\n      <td>0</td>\n      <td>0</td>\n      <td>1</td>\n    </tr>\n    <tr>\n      <th>4</th>\n      <td>110000.0</td>\n      <td>23.76</td>\n      <td>3795.0</td>\n      <td>1</td>\n      <td>0</td>\n      <td>0</td>\n    </tr>\n  </tbody>\n</table>\n</div>"
     },
     "execution_count": 3,
     "metadata": {},
     "output_type": "execute_result"
    }
   ],
   "source": [
    "# get_dummies erzeugt One-Hot-Encoding\n",
    "df = pd.get_dummies(df0, columns = [\"Stadt\"])\n",
    "df.head()\n",
    "#pd.get_dummies?"
   ]
  },
  {
   "cell_type": "code",
   "execution_count": 4,
   "metadata": {},
   "outputs": [],
   "source": [
    "Y = df[[\"Preis in Mio\"]].values"
   ]
  },
  {
   "cell_type": "code",
   "execution_count": 5,
   "metadata": {},
   "outputs": [],
   "source": [
    "# Option 1: Explizit auflisten, welche Spalten wir in X haben möchten\n",
    "# Ein Stadt darf man aus Redundanzgründen weglassen (keine lin. Abhängikeiten)\n",
    "X = df[[\"Gewinn\", \"Quadratmeter\", \"Stadt_Berlin\", \"Stadt_Köln\"]].values\n",
    "\n",
    "# Option 2: Explizit auflisten, welche Spalten wir **nicht** in X haben möchten\n",
    "#df.drop(labels = [\"Preis in Mio\", \"Stadt_München\"], axis = 1).values"
   ]
  },
  {
   "cell_type": "code",
   "execution_count": 10,
   "metadata": {},
   "outputs": [
    {
     "name": "stdout",
     "output_type": "stream",
     "text": [
      "0.9688135511825554\n"
     ]
    }
   ],
   "source": [
    "# Train / Test\n",
    "from sklearn.model_selection import train_test_split\n",
    "\n",
    "X_train, X_test, y_train, y_test = train_test_split(X, Y, random_state = 0, test_size = 0.25)\n",
    "\n",
    "# Lineare Regression\n",
    "from sklearn.linear_model import LinearRegression\n",
    "\n",
    "model = LinearRegression()\n",
    "model.fit(X_train, y_train)\n",
    "\n",
    "print(model.score(X_test, y_test))"
   ]
  },
  {
   "cell_type": "code",
   "execution_count": 7,
   "metadata": {},
   "outputs": [
    {
     "data": {
      "text/plain": "array([[ 1.13058247e-05,  3.88104273e-03, -3.27562421e+00,\n        -6.22584051e+00]])"
     },
     "execution_count": 7,
     "metadata": {},
     "output_type": "execute_result"
    }
   ],
   "source": [
    "# Wie sieht das Modell aus:\n",
    "model.coef_\n",
    "# -6.22...: in Köln sind Hotels wohl eher billig zu kaufen."
   ]
  },
  {
   "cell_type": "code",
   "execution_count": 8,
   "metadata": {},
   "outputs": [
    {
     "data": {
      "text/plain": "array([9.40053308])"
     },
     "execution_count": 8,
     "metadata": {},
     "output_type": "execute_result"
    }
   ],
   "source": [
    "model.intercept_"
   ]
  },
  {
   "cell_type": "code",
   "execution_count": 9,
   "metadata": {},
   "outputs": [
    {
     "data": {
      "text/plain": "array([[22.17424375],\n       [18.89861954],\n       [15.94840324]])"
     },
     "execution_count": 9,
     "metadata": {},
     "output_type": "execute_result"
    }
   ],
   "source": [
    "#Was kostet ein Hotel mit 100000 Euro Gewinn, 3000 qm in den jew. Städten.\n",
    "model.predict([[100000, 3000, 0, 0], [100000, 3000, 1, 0], [100000, 3000, 0, 1]])\n",
    "# 0 0 = München   1 0 = Berlin   0 1 = Kölle"
   ]
  },
  {
   "cell_type": "code",
   "execution_count": 9,
   "metadata": {},
   "outputs": [],
   "source": []
  }
 ],
 "metadata": {
  "kernelspec": {
   "display_name": "Python 3",
   "language": "python",
   "name": "python3"
  },
  "language_info": {
   "codemirror_mode": {
    "name": "ipython",
    "version": 3
   },
   "file_extension": ".py",
   "mimetype": "text/x-python",
   "name": "python",
   "nbconvert_exporter": "python",
   "pygments_lexer": "ipython3",
   "version": "3.8.5"
  }
 },
 "nbformat": 4,
 "nbformat_minor": 2
}
