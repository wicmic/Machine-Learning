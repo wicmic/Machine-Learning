{
 "cells": [
  {
   "cell_type": "markdown",
   "metadata": {},
   "source": [
    "# Navier Bayes (mit Worthäufigkeiten)"
   ]
  },
  {
   "cell_type": "code",
   "execution_count": 4,
   "metadata": {},
   "outputs": [
    {
     "data": {
      "text/plain": "   type                                            message\n0   ham  Go until jurong point, crazy.. Available only ...\n1   ham                      Ok lar... Joking wif u oni...\n2  spam  Free entry in 2 a wkly comp to win FA Cup fina...\n3   ham  U dun say so early hor... U c already then say...\n4   ham  Nah I don't think he goes to usf, he lives aro...",
      "text/html": "<div>\n<style scoped>\n    .dataframe tbody tr th:only-of-type {\n        vertical-align: middle;\n    }\n\n    .dataframe tbody tr th {\n        vertical-align: top;\n    }\n\n    .dataframe thead th {\n        text-align: right;\n    }\n</style>\n<table border=\"1\" class=\"dataframe\">\n  <thead>\n    <tr style=\"text-align: right;\">\n      <th></th>\n      <th>type</th>\n      <th>message</th>\n    </tr>\n  </thead>\n  <tbody>\n    <tr>\n      <th>0</th>\n      <td>ham</td>\n      <td>Go until jurong point, crazy.. Available only ...</td>\n    </tr>\n    <tr>\n      <th>1</th>\n      <td>ham</td>\n      <td>Ok lar... Joking wif u oni...</td>\n    </tr>\n    <tr>\n      <th>2</th>\n      <td>spam</td>\n      <td>Free entry in 2 a wkly comp to win FA Cup fina...</td>\n    </tr>\n    <tr>\n      <th>3</th>\n      <td>ham</td>\n      <td>U dun say so early hor... U c already then say...</td>\n    </tr>\n    <tr>\n      <th>4</th>\n      <td>ham</td>\n      <td>Nah I don't think he goes to usf, he lives aro...</td>\n    </tr>\n  </tbody>\n</table>\n</div>"
     },
     "execution_count": 4,
     "metadata": {},
     "output_type": "execute_result"
    }
   ],
   "source": [
    "import pandas as pd\n",
    "\n",
    "# Daten von: https://www.kaggle.com/uciml/sms-spam-collection-dataset\n",
    "# Aufbereitet wie folgt:\n",
    "#  - 2 \"Unnamed\" Spalten entfernt\n",
    "#  - Kodierung auf utf-8 geändert\n",
    "#  - Spalten unbenannt\n",
    "\n",
    "df = pd.read_csv(\"data/spam.csv\")\n",
    "\n",
    "df.head()"
   ]
  },
  {
   "cell_type": "code",
   "execution_count": 5,
   "metadata": {},
   "outputs": [
    {
     "name": "stdout",
     "output_type": "stream",
     "text": [
      "5572\n"
     ]
    }
   ],
   "source": [
    "print(len(df))"
   ]
  },
  {
   "cell_type": "code",
   "execution_count": 6,
   "metadata": {},
   "outputs": [],
   "source": [
    "from sklearn.model_selection import train_test_split\n",
    "from sklearn.feature_extraction.text import CountVectorizer\n",
    "\n",
    "X = df[\"message\"]\n",
    "y = df[\"type\"]\n",
    "X_train, X_test, y_train, y_test = train_test_split(X, y, random_state = 0)"
   ]
  },
  {
   "cell_type": "code",
   "execution_count": 7,
   "metadata": {},
   "outputs": [
    {
     "name": "stdout",
     "output_type": "stream",
     "text": [
      "0       Go until jurong point, crazy.. Available only ...\n",
      "1                           Ok lar... Joking wif u oni...\n",
      "2       Free entry in 2 a wkly comp to win FA Cup fina...\n",
      "3       U dun say so early hor... U c already then say...\n",
      "4       Nah I don't think he goes to usf, he lives aro...\n",
      "                              ...                        \n",
      "5567    This is the 2nd time we have tried 2 contact u...\n",
      "5568                Will ?_ b going to esplanade fr home?\n",
      "5569    Pity, * was in mood for that. So...any other s...\n",
      "5570    The guy did some bitching but I acted like i'd...\n",
      "5571                           Rofl. Its true to its name\n",
      "Name: message, Length: 5572, dtype: object\n"
     ]
    }
   ],
   "source": [
    "#Anzeigen aller Texte \n",
    "print(X)"
   ]
  },
  {
   "cell_type": "code",
   "execution_count": 8,
   "metadata": {},
   "outputs": [
    {
     "name": "stdout",
     "output_type": "stream",
     "text": [
      "872                       I'll text you when I drop x off\n",
      "831     Hi mate its RV did u hav a nice hol just a mes...\n",
      "1273    network operator. The service is free. For T &...\n",
      "3314    FREE MESSAGE Activate your 500 FREE Text Messa...\n",
      "4929    Hi, the SEXYCHAT girls are waiting for you to ...\n",
      "                              ...                        \n",
      "4931                Match started.india  &lt;#&gt;  for 2\n",
      "3264    44 7732584351, Do you want a New Nokia 3510i c...\n",
      "1653    I was at bugis juz now wat... But now i'm walk...\n",
      "2607    :-) yeah! Lol. Luckily i didn't have a starrin...\n",
      "2732    How dare you stupid. I wont tell anything to y...\n",
      "Name: message, Length: 4179, dtype: object\n"
     ]
    }
   ],
   "source": [
    "#Anzeigen  der Klassenzuordnung\n",
    "print(X_train)"
   ]
  },
  {
   "cell_type": "code",
   "execution_count": 9,
   "metadata": {},
   "outputs": [],
   "source": [
    "#Jetzt wird eine Invertierung durchgeführt. Alle Worte werden \n",
    "#werden bestimmt. Matrix: Welches Wort kommt in welchem Text vor. \n",
    "#cv = CountVectorizer()\n",
    "#Der Count Vectorizer kann limitieren: \n",
    "cv = CountVectorizer(min_df = 0.001, max_df = 0.25)\n",
    "cv = CountVectorizer(max_features = 1000)\n",
    "cv = CountVectorizer()\n",
    "cv.fit(X_train)\n",
    "X_train = cv.transform(X_train)\n",
    "X_test = cv.transform(X_test)"
   ]
  },
  {
   "cell_type": "code",
   "execution_count": 10,
   "metadata": {},
   "outputs": [
    {
     "name": "stdout",
     "output_type": "stream",
     "text": [
      "(1393, 7323)\n"
     ]
    }
   ],
   "source": [
    "#Wieviele Zeilen und Spalten hat die Matrix\n",
    "print(X_test.shape)"
   ]
  },
  {
   "cell_type": "code",
   "execution_count": 11,
   "metadata": {},
   "outputs": [
    {
     "name": "stdout",
     "output_type": "stream",
     "text": [
      "  (0, 2343)\t1\n",
      "  (0, 3921)\t1\n",
      "  (0, 4611)\t1\n",
      "  (0, 6408)\t1\n",
      "  (0, 7069)\t1\n",
      "  (0, 7289)\t1\n",
      "  (1, 805)\t1\n",
      "  (1, 1951)\t1\n",
      "  (1, 2191)\t1\n",
      "  (1, 2340)\t1\n",
      "  (1, 3170)\t1\n",
      "  (1, 3172)\t1\n",
      "  (1, 3210)\t1\n",
      "  (1, 3235)\t1\n",
      "  (1, 3273)\t1\n",
      "  (1, 3436)\t1\n",
      "  (1, 3555)\t1\n",
      "  (1, 3655)\t1\n",
      "  (1, 4128)\t1\n",
      "  (1, 4198)\t1\n",
      "  (1, 4493)\t1\n",
      "  (1, 4611)\t1\n",
      "  (1, 5468)\t1\n",
      "  (1, 5528)\t1\n",
      "  (1, 5529)\t1\n",
      "  :\t:\n",
      "  (4176, 6592)\t1\n",
      "  (4176, 6954)\t1\n",
      "  (4176, 6980)\t1\n",
      "  (4176, 6987)\t1\n",
      "  (4176, 7073)\t1\n",
      "  (4177, 2193)\t1\n",
      "  (4177, 3171)\t1\n",
      "  (4177, 3872)\t1\n",
      "  (4177, 3943)\t1\n",
      "  (4177, 4008)\t1\n",
      "  (4177, 5477)\t1\n",
      "  (4177, 6080)\t1\n",
      "  (4177, 7262)\t1\n",
      "  (4177, 7289)\t1\n",
      "  (4178, 791)\t1\n",
      "  (4178, 932)\t1\n",
      "  (4178, 2062)\t1\n",
      "  (4178, 3191)\t1\n",
      "  (4178, 3327)\t1\n",
      "  (4178, 6178)\t1\n",
      "  (4178, 6320)\t1\n",
      "  (4178, 6378)\t1\n",
      "  (4178, 6546)\t2\n",
      "  (4178, 7168)\t2\n",
      "  (4178, 7289)\t3\n"
     ]
    }
   ],
   "source": [
    "print(X_train)"
   ]
  },
  {
   "cell_type": "code",
   "execution_count": 12,
   "metadata": {},
   "outputs": [
    {
     "ename": "AttributeError",
     "evalue": "'CountVectorizer' object has no attribute 'get_feature_names'",
     "output_type": "error",
     "traceback": [
      "\u001B[1;31m---------------------------------------------------------------------------\u001B[0m",
      "\u001B[1;31mAttributeError\u001B[0m                            Traceback (most recent call last)",
      "Cell \u001B[1;32mIn[12], line 1\u001B[0m\n\u001B[1;32m----> 1\u001B[0m \u001B[43mcv\u001B[49m\u001B[38;5;241;43m.\u001B[39;49m\u001B[43mget_feature_names\u001B[49m()\n",
      "\u001B[1;31mAttributeError\u001B[0m: 'CountVectorizer' object has no attribute 'get_feature_names'"
     ]
    }
   ],
   "source": [
    "cv.get_feature_names()"
   ]
  },
  {
   "cell_type": "code",
   "execution_count": 13,
   "metadata": {},
   "outputs": [
    {
     "data": {
      "text/plain": "{'ll': 3921,\n 'text': 6408,\n 'you': 7289,\n 'when': 7069,\n 'drop': 2343,\n 'off': 4611,\n 'hi': 3235,\n 'mate': 4128,\n 'its': 3555,\n 'rv': 5528,\n 'did': 2191,\n 'hav': 3170,\n 'nice': 4493,\n 'hol': 3273,\n 'just': 3655,\n 'message': 4198,\n 'say': 5589,\n 'hello': 3210,\n 'coz': 1951,\n 'haven': 3172,\n 'sent': 5681,\n 'in': 3436,\n 'ages': 805,\n 'started': 6084,\n 'driving': 2340,\n 'so': 5931,\n 'stay': 6095,\n 'roads': 5468,\n 'rvx': 5529,\n 'network': 4475,\n 'operator': 4673,\n 'the': 6431,\n 'service': 5693,\n 'is': 3539,\n 'free': 2814,\n 'for': 2775,\n 'visit': 6898,\n '80488': 595,\n 'biz': 1293,\n 'activate': 745,\n 'your': 7294,\n '500': 492,\n 'messages': 4200,\n 'by': 1501,\n 'replying': 5386,\n 'to': 6546,\n 'this': 6467,\n 'with': 7133,\n 'word': 7176,\n 'terms': 6394,\n 'conditions': 1863,\n 'www': 7227,\n '07781482378': 29,\n 'com': 1809,\n 'sexychat': 5708,\n 'girls': 2965,\n 'are': 978,\n 'waiting': 6946,\n 'them': 6438,\n 'now': 4564,\n 'great': 3056,\n 'night': 4500,\n 'chatting': 1653,\n 'send': 5672,\n 'stop': 6129,\n 'how': 3327,\n 'much': 4362,\n 'an': 892,\n 'eighth': 2424,\n 'can': 1539,\n 'further': 2880,\n 'club': 1766,\n 'tones': 6573,\n 'mix': 4264,\n 'see': 5645,\n 'my': 4395,\n 'tone': 6572,\n 'enjoy': 2466,\n 'html': 3339,\n 'cost': 1927,\n 'gbp4': 2921,\n '50': 491,\n 'week': 7027,\n 'mfl': 4206,\n 'good': 3008,\n 'morning': 4319,\n 'princess': 5097,\n 'kay': 3678,\n 'since': 5825,\n 'we': 7008,\n 'out': 4720,\n 'already': 862,\n 'part': 4793,\n 'of': 4609,\n 'checking': 1663,\n 'iq': 3531,\n 'at': 1045,\n 'home': 3284,\n 'please': 4953,\n 'call': 1518,\n 'dnt': 2260,\n 'wnt': 7152,\n 'tlk': 6534,\n 'wid': 7096,\n 'today': 6553,\n 'offer': 4615,\n 'claim': 1729,\n 'ur': 6802,\n '150': 277,\n 'worth': 7192,\n 'discount': 2236,\n 'vouchers': 6916,\n 'yes': 7274,\n '85023': 625,\n 'savamob': 5583,\n 'member': 4180,\n 'offers': 4618,\n 'mobile': 4279,\n 'cs': 1994,\n '08717898035': 124,\n '00': 0,\n 'sub': 6184,\n '16': 290,\n 'unsub': 6781,\n 'reply': 5385,\n 'do': 2261,\n 'knw': 3733,\n 'dis': 2228,\n 'no': 4516,\n 'lt': 4003,\n 'gt': 3081,\n 'cool': 1915,\n 'few': 2662,\n 'said': 5546,\n 'kiss': 3718,\n 'sound': 5982,\n 'effects': 2415,\n 'he': 3180,\n 'gorgeous': 3020,\n 'man': 4088,\n 'isn': 3545,\n 'kind': 3711,\n 'person': 4864,\n 'who': 7085,\n 'needs': 4458,\n 'smile': 5903,\n 'brighten': 1419,\n 'his': 3251,\n 'day': 2082,\n 'guy': 3101,\n 'some': 5944,\n 'bitching': 1290,\n 'but': 1487,\n 'acted': 741,\n 'like': 3872,\n 'be': 1194,\n 'interested': 3501,\n 'buying': 1493,\n 'something': 5953,\n 'else': 2438,\n 'next': 4489,\n 'and': 897,\n 'gave': 2914,\n 'it': 3549,\n 'us': 6815,\n 've': 6857,\n 'reached': 5264,\n 'sch': 5599,\n 'him': 3245,\n 'ok': 4632,\n 'afternoon': 792,\n 'love': 3983,\n 'was': 6980,\n 'words': 7177,\n 'on': 4649,\n 'ym': 7283,\n 'get': 2943,\n 'tm': 6536,\n 'very': 6866,\n 'smart': 5894,\n 'move': 4332,\n 'slave': 5869,\n 'smiles': 5904,\n 'drink': 2334,\n 'coffee': 1787,\n 'await': 1093,\n 'sms': 5913,\n 'auction': 1067,\n 'have': 3171,\n 'won': 7161,\n 'nokia': 4526,\n '7250i': 566,\n 'what': 7063,\n 'win': 7108,\n 'our': 4717,\n 'take': 6312,\n '86021': 628,\n 'hg': 3234,\n 'suite342': 6216,\n '2lands': 372,\n 'row': 5494,\n 'w1jhl': 6928,\n 'cant': 1551,\n 'talk': 6320,\n 'will': 7106,\n 'dont': 2295,\n 'keep': 3683,\n 'calling': 1529,\n '1st': 309,\n 'wk': 7141,\n 'gr8': 3036,\n 'str8': 6144,\n 'each': 2380,\n 'txt': 6704,\n '8007': 588,\n 'classic': 1739,\n 'or': 4686,\n 'hit': 3253,\n 'polys': 5000,\n '150p': 279,\n 'poly': 4994,\n '200p': 328,\n 'lets': 3847,\n 'make': 4079,\n 'saturday': 5581,\n 'monday': 4301,\n 'as': 1018,\n 'per': 4848,\n 'convenience': 1902,\n 'then': 6442,\n 'why': 7092,\n 'came': 1535,\n 'hostel': 3315,\n 'god': 2990,\n 'picked': 4903,\n 'up': 6787,\n 'flower': 2743,\n 'dippeditinadew': 2223,\n 'lovingly': 3993,\n 'touched': 6609,\n 'itwhichturnedinto': 3557,\n 'gifted': 2958,\n 'tomeandsaid': 6567,\n 'friend': 2833,\n '4u': 486,\n 'dint': 2221,\n 'slept': 5874,\n 'wah': 6937,\n 'lucky': 4009,\n 'save': 5584,\n 'money': 4303,\n 'hee': 3202,\n 'oh': 4627,\n 'ho': 3268,\n 'first': 2709,\n 'time': 6514,\n 'use': 6818,\n 'these': 6447,\n 'type': 6718,\n 'unlimited': 6775,\n 'texts': 6416,\n 'limited': 3882,\n 'minutes': 4241,\n 'things': 6457,\n 'quick': 5208,\n 'question': 5205,\n 'thats': 6430,\n 'cover': 1948,\n 'face': 2590,\n 'hot': 3316,\n 'sticky': 6117,\n 'cum': 2017,\n 'surely': 6252,\n 'result': 5424,\n 'lov': 3981,\n 'line': 3887,\n 'hurt': 3363,\n 'me': 4151,\n 'truth': 6669,\n 'sorry': 5972,\n 'later': 3792,\n 'meeting': 4169,\n 'happening': 3147,\n 'gotten': 3030,\n 'job': 3610,\n 'begun': 1222,\n 'registration': 5339,\n 'permanent': 4859,\n 'residency': 5404,\n 'playng': 4950,\n 'doors': 2301,\n 'game': 2895,\n 'racing': 5220,\n 'phone': 4889,\n 'lol': 3943,\n 'really': 5282,\n 'into': 3509,\n 'skateboarding': 5854,\n 'despite': 2163,\n 'fact': 2592,\n 'that': 6427,\n 'gets': 2946,\n 'thrown': 6491,\n 'winds': 7112,\n 'bandages': 1146,\n 'shit': 5752,\n 'all': 850,\n 'over': 4737,\n 'arms': 998,\n 'every': 2525,\n 'five': 2715,\n 'asked': 1027,\n 'pick': 4902,\n 'right': 5451,\n 'pls': 4960,\n 'dunno': 2368,\n 'lei': 3836,\n 'neva': 4478,\n 'roger': 5476,\n 'from': 2849,\n 'cl': 1728,\n 'come': 1815,\n 'tomorrow': 6570,\n 'tell': 6378,\n 'her': 3224,\n 'eat': 2395,\n 'hey': 3233,\n 'pple': 5046,\n '700': 563,\n '900': 664,\n 'nights': 4503,\n 'excellent': 2547,\n 'location': 3931,\n 'wif': 7098,\n 'breakfast': 1404,\n 'hamper': 3128,\n 'she': 5734,\n 'mind': 4226,\n 'if': 3401,\n 'go': 2984,\n 'bedroom': 1210,\n 'minute': 4240,\n 'sed': 5644,\n 'sexy': 5707,\n 'mood': 4313,\n 'minuts': 4242,\n 'latr': 3794,\n 'cake': 1510,\n 'wife': 7099,\n 'accidentally': 722,\n 'deleted': 2131,\n 'resend': 5398,\n 'mm': 4268,\n 'am': 873,\n 'way': 7003,\n 'railway': 5227,\n 'nvm': 4585,\n 'there': 6445,\n 'drugdealer': 2349,\n 'profile': 5126,\n 'seems': 5651,\n 'bpo': 1388,\n 'put': 5187,\n 'skip': 5861,\n 'outside': 4731,\n 'front': 2851,\n 'house': 3323,\n 'which': 7079,\n 'pull': 5171,\n 'before': 1217,\n 'total': 6605,\n 'video': 6875,\n 'converter': 1905,\n 'download': 2315,\n 'google': 3018,\n 'search': 5628,\n 'coming': 1821,\n 'funeral': 2874,\n 'guaranteed': 3082,\n 'latest': 3793,\n '40gb': 450,\n 'ipod': 3530,\n 'mp3': 4339,\n 'player': 4946,\n 'prize': 5107,\n 'collect': 1799,\n '83355': 614,\n 'ibhltd': 3378,\n 'ldnw15h': 3811,\n 'mtmsgrcvd18': 4359,\n 'got': 3023,\n 'babe': 1116,\n 'still': 6120,\n 'awake': 1095,\n 'shola': 5760,\n 'college': 1804,\n 'medicine': 4165,\n 'academic': 714,\n 'department': 2146,\n 'secretary': 5636,\n 'current': 2023,\n 'situation': 5847,\n 'ask': 1025,\n 'transfer': 6631,\n 'should': 5776,\n 'someone': 5947,\n 'check': 1659,\n 'sagamu': 5544,\n 'same': 5558,\n 'thing': 6456,\n 'lautech': 3800,\n 'vital': 6899,\n 'completes': 1844,\n 'medical': 4164,\n 'education': 2406,\n 'nigeria': 4498,\n 'less': 3842,\n 'expensive': 2566,\n 'unless': 6773,\n 'getting': 2950,\n 'citizen': 1726,\n 'rates': 5250,\n 'new': 4482,\n 'zealand': 7314,\n 'received': 5298,\n 'content': 1892,\n 'chloe': 1709,\n 'smashed': 5898,\n 'weekend': 7029,\n 'been': 1212,\n 'missing': 4253,\n 'sp': 5994,\n 'visionsms': 6897,\n 'playin': 4948,\n 'space': 5995,\n 'poker': 4988,\n 'sir': 5837,\n 'well': 7041,\n 'until': 6785,\n 'slightly': 5878,\n 'disastrous': 2231,\n 'class': 1737,\n 'pm': 4967,\n 'fav': 2635,\n 'darlings': 2069,\n 'hope': 3299,\n 'wld': 7148,\n 'late': 3789,\n 'place': 4930,\n 'always': 871,\n 'hanks': 3142,\n 'lotsly': 3974,\n 'anything': 932,\n 'about': 703,\n 'nordstrom': 4542,\n 're': 5262,\n 'done': 2293,\n 'kit': 3721,\n 'strip': 6159,\n 'billed': 1271,\n 'netcollex': 4471,\n 'ltd': 4004,\n 'po': 4968,\n 'box': 1368,\n '1013': 242,\n 'ig11': 3402,\n 'oja': 4631,\n 'eatin': 2397,\n 'lunch': 4014,\n 'weather': 7015,\n 'only': 4659,\n 'not': 4552,\n 'ignoring': 3404,\n 'shopping': 5764,\n 'official': 4620,\n 'england': 2464,\n 'ringtone': 5459,\n 'colour': 1806,\n 'flag': 2721,\n 'yer': 7273,\n 'tonights': 6580,\n '84199': 622,\n 'optout': 4685,\n 'eng': 2461,\n 'box39822': 1376,\n 'w111wx': 6923,\n 'top': 6592,\n 'weekly': 7031,\n 'subpoly': 6188,\n '81618': 602,\n '08718727870': 133,\n 'has': 3160,\n 'conacted': 1854,\n 'dating': 2078,\n 'entered': 2474,\n 'because': 1203,\n 'they': 6451,\n 'fancy': 2617,\n 'find': 2695,\n 'landline': 3770,\n '09111030116': 230,\n 'pobox12n146tf15': 4971,\n 'registered': 5338,\n 'sinco': 5826,\n 'payee': 4824,\n 'log': 3935,\n 'icicibank': 3387,\n 'enter': 2473,\n 'urn': 6813,\n 'confirm': 1867,\n 'beware': 1256,\n 'frauds': 2810,\n 'share': 5728,\n 'disclose': 2233,\n 'anyone': 927,\n 'pic': 4901,\n 'prob': 5112,\n 'after': 791,\n 'forgot': 2786,\n 'smth': 5918,\n 'card': 1561,\n 'da': 2045,\n 'present': 5079,\n 'want': 6966,\n 'write': 7206,\n 'sign': 5809,\n 'fighting': 2676,\n 'world': 7184,\n 'easy': 2394,\n 'either': 2427,\n 'lose': 3965,\n 'bt': 1453,\n 'fightng': 2677,\n 'some1': 5945,\n 'close': 1756,\n 'dificult': 2207,\n 'were': 7049,\n 'working': 7182,\n 'wanna': 6964,\n 'chat': 1651,\n 'bored': 1350,\n 'etc': 2509,\n 'ring': 5456,\n 'nose': 4550,\n 'essay': 2506,\n 'xx': 7241,\n 'tmr': 6540,\n 'brin': 1422,\n 'lar': 3781,\n 'aiya': 824,\n 'mayb': 4145,\n 'set': 5697,\n 'properly': 5144,\n 'help': 3212,\n 'sheet': 5735,\n 'bishan': 1287,\n 'nearer': 4445,\n 'need': 4454,\n 'buy': 1492,\n 'early': 2384,\n 'cos': 1926,\n 'gotta': 3029,\n 'park': 4790,\n 'car': 1560,\n 'pandy': 4774,\n 'joined': 3617,\n '4w': 488,\n 'technologies': 6369,\n 'room': 5483,\n 'number': 4577,\n 'again': 796,\n 'sure': 6251,\n 'knocking': 3728,\n 'door': 2300,\n 'give': 2968,\n 'walk': 6950,\n 'company': 1832,\n 'environment': 2485,\n 'terrific': 6398,\n 'food': 2766,\n 'jot': 3632,\n 'down': 2314,\n 'remember': 5357,\n 'chance': 1630,\n 'reality': 5278,\n 'fantasy': 2620,\n 'show': 5783,\n '08707509020': 82,\n '20p': 331,\n 'min': 4224,\n 'ntt': 4572,\n '1327': 268,\n 'croydon': 1987,\n 'cr9': 1956,\n '5wb': 518,\n '0870': 65,\n 'national': 4431,\n 'rate': 5249,\n 'edison': 2404,\n 'rightly': 5453,\n 'fool': 2767,\n 'more': 4316,\n 'questions': 5207,\n 'than': 6418,\n 'wise': 7124,\n 'answer': 916,\n 'know': 3729,\n 'speechless': 6014,\n 'during': 2371,\n 'viva': 6901,\n 'gm': 2979,\n 'thk': 6468,\n 'juz': 3659,\n 'accordin': 727,\n 'wat': 6987,\n 'discussed': 2239,\n 'yest': 7275,\n 'lor': 3963,\n 'except': 2548,\n 'kb': 3680,\n 'sun': 6227,\n 'nt': 4569,\n 'lesson': 3844,\n 'attend': 1058,\n 'sat': 5575,\n 'where': 7073,\n 'around': 1002,\n 'fine': 2698,\n 'tonight': 6579,\n 'gentle': 2935,\n 'baby': 1119,\n 'soon': 5966,\n 'taking': 6317,\n 'inches': 3440,\n 'deep': 2113,\n 'inside': 3488,\n 'tight': 6508,\n 'pussy': 5186,\n 'rooms': 5487,\n 'cheap': 1654,\n 'raining': 5229,\n 'mah': 4069,\n 'hard': 3152,\n 'leave': 3824,\n 'orchard': 4692,\n 'shuhui': 5796,\n 'change': 1632,\n 'suntec': 6235,\n 'steamboat': 6105,\n 'noe': 4520,\n 'sister': 5840,\n 'going': 2996,\n 'earn': 2385,\n 'bruce': 1448,\n 'downs': 2318,\n 'amp': 886,\n 'fletcher': 2728,\n 'lasagna': 3786,\n 'vodka': 6906,\n 'address': 759,\n 'urgent': 6806,\n '09061749602': 185,\n 'complimentary': 1847,\n 'tenerife': 6390,\n 'holiday': 3279,\n '10': 234,\n '000': 1,\n 'cash': 1585,\n 'collection': 1802,\n 'sae': 5539,\n '528': 507,\n 'hp20': 3333,\n '1yf': 319,\n '150ppm': 283,\n '18': 294,\n 'todays': 6554,\n 'voda': 6904,\n 'numbers': 4578,\n 'ending': 2455,\n '7548': 571,\n 'selected': 5658,\n 'receive': 5296,\n '350': 415,\n 'award': 1096,\n 'match': 4125,\n '08712300220': 92,\n 'quoting': 5218,\n 'code': 1786,\n '4041': 447,\n 'standard': 6074,\n 'app': 945,\n 'didnt': 2194,\n 'complete': 1841,\n 'gist': 2966,\n '09066649731from': 219,\n 'ibiza': 3379,\n '434': 454,\n 'sk3': 5852,\n '8wp': 663,\n 'alright': 863,\n 'took': 6584,\n 'morphine': 4321,\n 'back': 1125,\n 'yo': 7284,\n 'switch': 6285,\n 'fone': 2764,\n 'dammit': 2054,\n 'works': 7183,\n 'years': 7264,\n 'old': 4642,\n 'doesnt': 2272,\n 'bother': 1359,\n 'housewives': 3325,\n 'date': 2075,\n '0871750': 120,\n '77': 574,\n '11': 249,\n '10p': 246,\n 'landlines': 3772,\n 'parents': 4787,\n 'hand': 3130,\n 'tired': 6521,\n 'arguing': 988,\n 'accept': 718,\n 'brother': 1439,\n 'lover': 3988,\n 'dear1': 2093,\n 'best1': 1246,\n 'clos1': 1755,\n 'lvblefrnd': 4024,\n 'jstfrnd': 3640,\n 'cutefrnd': 2036,\n 'lifpartnr': 3864,\n 'belovd': 1235,\n 'swtheart': 6288,\n 'bstfrnd': 1452,\n 'rply': 5499,\n 'means': 4157,\n 'enemy': 2459,\n 'any': 924,\n 'special': 6008,\n 'finishing': 2702,\n 'doing': 2283,\n 'talking': 6323,\n 'think': 6458,\n 'being': 1226,\n 'boy': 1383,\n 'sian': 5801,\n 'aft': 790,\n 'supervisor': 6240,\n 'work': 7178,\n 'liao': 3852,\n 'horny': 3307,\n 'naked': 4410,\n '69698': 545,\n 'charged': 1641,\n '150pm': 281,\n 'unsubscribe': 6782,\n 'feb': 2643,\n 'valued': 6844,\n 'frnds': 2841,\n 'evn': 2536,\n 'comes': 1817,\n 'married': 4115,\n 'luv': 4019,\n 'ignore': 3403,\n 'evr': 2539,\n 'polyphonic': 4999,\n '087018728737': 75,\n 'toppoly': 6595,\n 'tune': 6688,\n 'pole': 4991,\n '1000': 236,\n 'flirting': 2736,\n 'girl': 2962,\n 'bloke': 1313,\n 'name': 4412,\n 'age': 799,\n 'eg': 2417,\n 'zoe': 7320,\n 'join': 3616,\n 'gettin': 2949,\n 'bit': 1288,\n 'arty': 1015,\n 'collages': 1796,\n 'mo': 4275,\n 'tryin': 6671,\n 'ne': 4442,\n 'roast': 5469,\n 'lovely': 3986,\n 'shall': 5722,\n 'several': 5704,\n 'slow': 5885,\n 'using': 6825,\n 'biola': 1279,\n 'fne': 2754,\n 'important': 3425,\n 'information': 3469,\n '02': 9,\n 'user': 6822,\n 'onto': 4660,\n 'http': 3340,\n 'urawinner': 6803,\n 'fantastic': 2619,\n 'surprise': 6257,\n 'awaiting': 1094,\n 'hmm': 3261,\n 'uncle': 6746,\n 'informed': 3470,\n 'paying': 4825,\n 'school': 5601,\n 'directly': 2225,\n 'dad': 2049,\n 'office': 4619,\n 'whats': 7065,\n 'matter': 4134,\n 'msg': 4346,\n 'break': 1403,\n 'rite': 5464,\n 'wan': 6961,\n 'watch': 6988,\n 'infernal': 3466,\n 'affairs': 782,\n 'darren': 2070,\n 'xy': 7247,\n 'dun': 2367,\n 'sad': 5538,\n 'abt': 710,\n 'concentrate': 1855,\n 'other': 4711,\n 'papers': 4779,\n 'dictionary': 2190,\n 'mode': 4288,\n 'screen': 5619,\n 'press': 5082,\n 'gently': 2937,\n 'remove': 5368,\n 'interesting': 3502,\n 'small': 5892,\n 'long': 3949,\n 'screamed': 5617,\n 'dear': 2092,\n 'chechi': 1658,\n 'holy': 3283,\n 'living': 3918,\n 'christ': 1717,\n 'goal': 2987,\n 'arsenal': 1011,\n 'henry': 3222,\n 'liverpool': 3916,\n 'scores': 5608,\n 'simple': 5820,\n 'shot': 5774,\n 'yards': 7258,\n 'pass': 4803,\n 'bergkamp': 1243,\n 'margin': 4108,\n '78': 576,\n 'mins': 4237,\n 'oic': 4629,\n 'sis': 5839,\n 'went': 7046,\n 'whether': 7078,\n 'near': 4443,\n 'univ': 6769,\n 'camera': 1536,\n 'awarded': 1097,\n 'sipix': 5835,\n 'digital': 2209,\n '09061221066': 175,\n 'fromm': 2850,\n 'delivery': 2136,\n 'within': 7135,\n '28': 354,\n 'days': 2083,\n 'speak': 6006,\n 'customer': 2030,\n 'machan': 4048,\n 'finished': 2701,\n 'plenty': 4957,\n '800': 585,\n 'flights': 2731,\n 'europe': 2515,\n 'away': 1098,\n 'b4': 1108,\n '10th': 248,\n 'sept': 5686,\n '09050000555': 147,\n 'ba128nnfwfly150ppm': 1113,\n 'al': 832,\n 'above': 705,\n 'carlos': 1575,\n 'sweet': 6276,\n 'usual': 6826,\n 'let': 3846,\n 'patty': 4819,\n 'smoke': 5908,\n 'haul': 3168,\n 'ass': 1033,\n 'careful': 1569,\n 'don': 2292,\n 'drive': 2337,\n 'thanks': 6422,\n 'picking': 4904,\n 'trash': 6636,\n 'lag': 3760,\n 'touch': 6608,\n 'skype': 5864,\n 'saying': 5591,\n 'welp': 7042,\n 'excuse': 2551,\n 'too': 6583,\n 'decorating': 2109,\n 'spoke': 6037,\n 'maneesha': 4097,\n 'satisfied': 5579,\n 'experience': 2567,\n 'toll': 6564,\n 'hiya': 3258,\n 'didn': 2193,\n 'signal': 5810,\n 'seen': 5652,\n 'heard': 3192,\n 'neither': 4465,\n 'unusual': 6786,\n 'itself': 3556,\n 'case': 1584,\n 'sort': 5973,\n 'hugs': 3347,\n 'snogs': 5925,\n 'forget': 2783,\n 'owns': 4749,\n 'private': 5105,\n 'property': 5145,\n 'passionate': 4807,\n 'watever': 6995,\n 'relation': 5345,\n 'built': 1467,\n 'remains': 5355,\n 'atlast': 1050,\n 'iz': 3562,\n 'lonlines': 3951,\n 'lotz': 3977,\n 'lot': 3971,\n 'memories': 4184,\n 'feeling': 2648,\n 'leaving': 3826,\n 'nope': 4538,\n 'bathing': 1174,\n 'dog': 2273,\n 'bathe': 1173,\n 'looks': 3957,\n 'rain': 5228,\n 'pa': 4754,\n 'pain': 4764,\n 'de': 2087,\n 'watching': 6992,\n 'lives': 3917,\n 'alex': 842,\n 'pizza': 4928,\n 'wot': 7194,\n 'missy': 4257,\n 'cud': 2010,\n 'ppl': 5045,\n 'im': 3412,\n 'gona': 3003,\n 'l8': 3747,\n 'buses': 1483,\n 'gon': 3002,\n 'past': 4811,\n 'full': 2867,\n 'waitin': 6945,\n 'pete': 4874,\n 'loved': 3984,\n 'gud': 3084,\n 'nit': 4510,\n 'pay': 4822,\n 'stock': 6122,\n 'comin': 1820,\n 'phones': 4892,\n 'half': 3122,\n 'price': 5093,\n 'rental': 5375,\n '12': 256,\n 'mths': 4356,\n 'cross': 1984,\n 'ntwk': 4573,\n '100': 235,\n 'txts': 6712,\n 'mobileupd8': 4282,\n '08001950382': 49,\n 'call2optout': 1519,\n '674': 538,\n 'details': 2167,\n 'fri': 2830,\n 'tom': 6565,\n 'mentionned': 4189,\n 'chinese': 1703,\n 'friends': 2834,\n 'plan': 4935,\n ...}"
     },
     "execution_count": 13,
     "metadata": {},
     "output_type": "execute_result"
    }
   ],
   "source": [
    "cv.vocabulary_"
   ]
  },
  {
   "cell_type": "code",
   "execution_count": 14,
   "metadata": {},
   "outputs": [
    {
     "name": "stdout",
     "output_type": "stream",
     "text": [
      "0.9863603732950467\n"
     ]
    }
   ],
   "source": [
    "#Auf die Term-Dokument-Matrix wird der Multinomilale Naive Bayes angewendet\n",
    "from sklearn.naive_bayes import MultinomialNB\n",
    "model = MultinomialNB()\n",
    "model.fit(X_train, y_train)\n",
    "print(model.score(X_test, y_test))"
   ]
  },
  {
   "cell_type": "code",
   "execution_count": 15,
   "metadata": {},
   "outputs": [
    {
     "ename": "ValueError",
     "evalue": "Expected 2D array, got scalar array instead:\narray=Hello World.\nReshape your data either using array.reshape(-1, 1) if your data has a single feature or array.reshape(1, -1) if it contains a single sample.",
     "output_type": "error",
     "traceback": [
      "\u001B[1;31m---------------------------------------------------------------------------\u001B[0m",
      "\u001B[1;31mValueError\u001B[0m                                Traceback (most recent call last)",
      "Cell \u001B[1;32mIn[15], line 1\u001B[0m\n\u001B[1;32m----> 1\u001B[0m \u001B[43mmodel\u001B[49m\u001B[38;5;241;43m.\u001B[39;49m\u001B[43mpredict\u001B[49m\u001B[43m(\u001B[49m\u001B[38;5;124;43m\"\u001B[39;49m\u001B[38;5;124;43mHello World\u001B[39;49m\u001B[38;5;124;43m\"\u001B[39;49m\u001B[43m)\u001B[49m\n",
      "File \u001B[1;32m~\\OneDrive\\MSC DV\\Python\\venv\\lib\\site-packages\\sklearn\\naive_bayes.py:105\u001B[0m, in \u001B[0;36m_BaseNB.predict\u001B[1;34m(self, X)\u001B[0m\n\u001B[0;32m     91\u001B[0m \u001B[38;5;250m\u001B[39m\u001B[38;5;124;03m\"\"\"\u001B[39;00m\n\u001B[0;32m     92\u001B[0m \u001B[38;5;124;03mPerform classification on an array of test vectors X.\u001B[39;00m\n\u001B[0;32m     93\u001B[0m \n\u001B[1;32m   (...)\u001B[0m\n\u001B[0;32m    102\u001B[0m \u001B[38;5;124;03m    Predicted target values for X.\u001B[39;00m\n\u001B[0;32m    103\u001B[0m \u001B[38;5;124;03m\"\"\"\u001B[39;00m\n\u001B[0;32m    104\u001B[0m check_is_fitted(\u001B[38;5;28mself\u001B[39m)\n\u001B[1;32m--> 105\u001B[0m X \u001B[38;5;241m=\u001B[39m \u001B[38;5;28;43mself\u001B[39;49m\u001B[38;5;241;43m.\u001B[39;49m\u001B[43m_check_X\u001B[49m\u001B[43m(\u001B[49m\u001B[43mX\u001B[49m\u001B[43m)\u001B[49m\n\u001B[0;32m    106\u001B[0m jll \u001B[38;5;241m=\u001B[39m \u001B[38;5;28mself\u001B[39m\u001B[38;5;241m.\u001B[39m_joint_log_likelihood(X)\n\u001B[0;32m    107\u001B[0m \u001B[38;5;28;01mreturn\u001B[39;00m \u001B[38;5;28mself\u001B[39m\u001B[38;5;241m.\u001B[39mclasses_[np\u001B[38;5;241m.\u001B[39margmax(jll, axis\u001B[38;5;241m=\u001B[39m\u001B[38;5;241m1\u001B[39m)]\n",
      "File \u001B[1;32m~\\OneDrive\\MSC DV\\Python\\venv\\lib\\site-packages\\sklearn\\naive_bayes.py:579\u001B[0m, in \u001B[0;36m_BaseDiscreteNB._check_X\u001B[1;34m(self, X)\u001B[0m\n\u001B[0;32m    577\u001B[0m \u001B[38;5;28;01mdef\u001B[39;00m \u001B[38;5;21m_check_X\u001B[39m(\u001B[38;5;28mself\u001B[39m, X):\n\u001B[0;32m    578\u001B[0m \u001B[38;5;250m    \u001B[39m\u001B[38;5;124;03m\"\"\"Validate X, used only in predict* methods.\"\"\"\u001B[39;00m\n\u001B[1;32m--> 579\u001B[0m     \u001B[38;5;28;01mreturn\u001B[39;00m \u001B[38;5;28;43mself\u001B[39;49m\u001B[38;5;241;43m.\u001B[39;49m\u001B[43m_validate_data\u001B[49m\u001B[43m(\u001B[49m\u001B[43mX\u001B[49m\u001B[43m,\u001B[49m\u001B[43m \u001B[49m\u001B[43maccept_sparse\u001B[49m\u001B[38;5;241;43m=\u001B[39;49m\u001B[38;5;124;43m\"\u001B[39;49m\u001B[38;5;124;43mcsr\u001B[39;49m\u001B[38;5;124;43m\"\u001B[39;49m\u001B[43m,\u001B[49m\u001B[43m \u001B[49m\u001B[43mreset\u001B[49m\u001B[38;5;241;43m=\u001B[39;49m\u001B[38;5;28;43;01mFalse\u001B[39;49;00m\u001B[43m)\u001B[49m\n",
      "File \u001B[1;32m~\\OneDrive\\MSC DV\\Python\\venv\\lib\\site-packages\\sklearn\\base.py:546\u001B[0m, in \u001B[0;36mBaseEstimator._validate_data\u001B[1;34m(self, X, y, reset, validate_separately, **check_params)\u001B[0m\n\u001B[0;32m    544\u001B[0m     \u001B[38;5;28;01mraise\u001B[39;00m \u001B[38;5;167;01mValueError\u001B[39;00m(\u001B[38;5;124m\"\u001B[39m\u001B[38;5;124mValidation should be done on X, y or both.\u001B[39m\u001B[38;5;124m\"\u001B[39m)\n\u001B[0;32m    545\u001B[0m \u001B[38;5;28;01melif\u001B[39;00m \u001B[38;5;129;01mnot\u001B[39;00m no_val_X \u001B[38;5;129;01mand\u001B[39;00m no_val_y:\n\u001B[1;32m--> 546\u001B[0m     X \u001B[38;5;241m=\u001B[39m check_array(X, input_name\u001B[38;5;241m=\u001B[39m\u001B[38;5;124m\"\u001B[39m\u001B[38;5;124mX\u001B[39m\u001B[38;5;124m\"\u001B[39m, \u001B[38;5;241m*\u001B[39m\u001B[38;5;241m*\u001B[39mcheck_params)\n\u001B[0;32m    547\u001B[0m     out \u001B[38;5;241m=\u001B[39m X\n\u001B[0;32m    548\u001B[0m \u001B[38;5;28;01melif\u001B[39;00m no_val_X \u001B[38;5;129;01mand\u001B[39;00m \u001B[38;5;129;01mnot\u001B[39;00m no_val_y:\n",
      "File \u001B[1;32m~\\OneDrive\\MSC DV\\Python\\venv\\lib\\site-packages\\sklearn\\utils\\validation.py:894\u001B[0m, in \u001B[0;36mcheck_array\u001B[1;34m(array, accept_sparse, accept_large_sparse, dtype, order, copy, force_all_finite, ensure_2d, allow_nd, ensure_min_samples, ensure_min_features, estimator, input_name)\u001B[0m\n\u001B[0;32m    891\u001B[0m \u001B[38;5;28;01mif\u001B[39;00m ensure_2d:\n\u001B[0;32m    892\u001B[0m     \u001B[38;5;66;03m# If input is scalar raise error\u001B[39;00m\n\u001B[0;32m    893\u001B[0m     \u001B[38;5;28;01mif\u001B[39;00m array\u001B[38;5;241m.\u001B[39mndim \u001B[38;5;241m==\u001B[39m \u001B[38;5;241m0\u001B[39m:\n\u001B[1;32m--> 894\u001B[0m         \u001B[38;5;28;01mraise\u001B[39;00m \u001B[38;5;167;01mValueError\u001B[39;00m(\n\u001B[0;32m    895\u001B[0m             \u001B[38;5;124m\"\u001B[39m\u001B[38;5;124mExpected 2D array, got scalar array instead:\u001B[39m\u001B[38;5;130;01m\\n\u001B[39;00m\u001B[38;5;124marray=\u001B[39m\u001B[38;5;132;01m{}\u001B[39;00m\u001B[38;5;124m.\u001B[39m\u001B[38;5;130;01m\\n\u001B[39;00m\u001B[38;5;124m\"\u001B[39m\n\u001B[0;32m    896\u001B[0m             \u001B[38;5;124m\"\u001B[39m\u001B[38;5;124mReshape your data either using array.reshape(-1, 1) if \u001B[39m\u001B[38;5;124m\"\u001B[39m\n\u001B[0;32m    897\u001B[0m             \u001B[38;5;124m\"\u001B[39m\u001B[38;5;124myour data has a single feature or array.reshape(1, -1) \u001B[39m\u001B[38;5;124m\"\u001B[39m\n\u001B[0;32m    898\u001B[0m             \u001B[38;5;124m\"\u001B[39m\u001B[38;5;124mif it contains a single sample.\u001B[39m\u001B[38;5;124m\"\u001B[39m\u001B[38;5;241m.\u001B[39mformat(array)\n\u001B[0;32m    899\u001B[0m         )\n\u001B[0;32m    900\u001B[0m     \u001B[38;5;66;03m# If input is 1D raise error\u001B[39;00m\n\u001B[0;32m    901\u001B[0m     \u001B[38;5;28;01mif\u001B[39;00m array\u001B[38;5;241m.\u001B[39mndim \u001B[38;5;241m==\u001B[39m \u001B[38;5;241m1\u001B[39m:\n",
      "\u001B[1;31mValueError\u001B[0m: Expected 2D array, got scalar array instead:\narray=Hello World.\nReshape your data either using array.reshape(-1, 1) if your data has a single feature or array.reshape(1, -1) if it contains a single sample."
     ]
    }
   ],
   "source": [
    "model.predict(\"Hello World\")"
   ]
  },
  {
   "cell_type": "code",
   "execution_count": 16,
   "metadata": {},
   "outputs": [
    {
     "ename": "IndexError",
     "evalue": "Index dimension must be 1 or 2",
     "output_type": "error",
     "traceback": [
      "\u001B[1;31m---------------------------------------------------------------------------\u001B[0m",
      "\u001B[1;31mIndexError\u001B[0m                                Traceback (most recent call last)",
      "Cell \u001B[1;32mIn[16], line 1\u001B[0m\n\u001B[1;32m----> 1\u001B[0m \u001B[43mX_train\u001B[49m\u001B[43m[\u001B[49m\u001B[38;5;241;43m5\u001B[39;49m\u001B[43m]\u001B[49m\u001B[43m[\u001B[49m\u001B[38;5;124;43m'\u001B[39;49m\u001B[38;5;124;43mmessage\u001B[39;49m\u001B[38;5;124;43m'\u001B[39;49m\u001B[43m]\u001B[49m\n",
      "File \u001B[1;32m~\\OneDrive\\MSC DV\\Python\\venv\\lib\\site-packages\\scipy\\sparse\\_index.py:47\u001B[0m, in \u001B[0;36mIndexMixin.__getitem__\u001B[1;34m(self, key)\u001B[0m\n\u001B[0;32m     46\u001B[0m \u001B[38;5;28;01mdef\u001B[39;00m \u001B[38;5;21m__getitem__\u001B[39m(\u001B[38;5;28mself\u001B[39m, key):\n\u001B[1;32m---> 47\u001B[0m     row, col \u001B[38;5;241m=\u001B[39m \u001B[38;5;28;43mself\u001B[39;49m\u001B[38;5;241;43m.\u001B[39;49m\u001B[43m_validate_indices\u001B[49m\u001B[43m(\u001B[49m\u001B[43mkey\u001B[49m\u001B[43m)\u001B[49m\n\u001B[0;32m     49\u001B[0m     \u001B[38;5;66;03m# Dispatch to specialized methods.\u001B[39;00m\n\u001B[0;32m     50\u001B[0m     \u001B[38;5;28;01mif\u001B[39;00m \u001B[38;5;28misinstance\u001B[39m(row, INT_TYPES):\n",
      "File \u001B[1;32m~\\OneDrive\\MSC DV\\Python\\venv\\lib\\site-packages\\scipy\\sparse\\_index.py:159\u001B[0m, in \u001B[0;36mIndexMixin._validate_indices\u001B[1;34m(self, key)\u001B[0m\n\u001B[0;32m    157\u001B[0m         row \u001B[38;5;241m+\u001B[39m\u001B[38;5;241m=\u001B[39m M\n\u001B[0;32m    158\u001B[0m \u001B[38;5;28;01melif\u001B[39;00m \u001B[38;5;129;01mnot\u001B[39;00m \u001B[38;5;28misinstance\u001B[39m(row, \u001B[38;5;28mslice\u001B[39m):\n\u001B[1;32m--> 159\u001B[0m     row \u001B[38;5;241m=\u001B[39m \u001B[38;5;28;43mself\u001B[39;49m\u001B[38;5;241;43m.\u001B[39;49m\u001B[43m_asindices\u001B[49m\u001B[43m(\u001B[49m\u001B[43mrow\u001B[49m\u001B[43m,\u001B[49m\u001B[43m \u001B[49m\u001B[43mM\u001B[49m\u001B[43m)\u001B[49m\n\u001B[0;32m    161\u001B[0m \u001B[38;5;28;01mif\u001B[39;00m isintlike(col):\n\u001B[0;32m    162\u001B[0m     col \u001B[38;5;241m=\u001B[39m \u001B[38;5;28mint\u001B[39m(col)\n",
      "File \u001B[1;32m~\\OneDrive\\MSC DV\\Python\\venv\\lib\\site-packages\\scipy\\sparse\\_index.py:183\u001B[0m, in \u001B[0;36mIndexMixin._asindices\u001B[1;34m(self, idx, length)\u001B[0m\n\u001B[0;32m    180\u001B[0m     \u001B[38;5;28;01mraise\u001B[39;00m \u001B[38;5;167;01mIndexError\u001B[39;00m(\u001B[38;5;124m'\u001B[39m\u001B[38;5;124minvalid index\u001B[39m\u001B[38;5;124m'\u001B[39m) \u001B[38;5;28;01mfrom\u001B[39;00m \u001B[38;5;21;01me\u001B[39;00m\n\u001B[0;32m    182\u001B[0m \u001B[38;5;28;01mif\u001B[39;00m x\u001B[38;5;241m.\u001B[39mndim \u001B[38;5;129;01mnot\u001B[39;00m \u001B[38;5;129;01min\u001B[39;00m (\u001B[38;5;241m1\u001B[39m, \u001B[38;5;241m2\u001B[39m):\n\u001B[1;32m--> 183\u001B[0m     \u001B[38;5;28;01mraise\u001B[39;00m \u001B[38;5;167;01mIndexError\u001B[39;00m(\u001B[38;5;124m'\u001B[39m\u001B[38;5;124mIndex dimension must be 1 or 2\u001B[39m\u001B[38;5;124m'\u001B[39m)\n\u001B[0;32m    185\u001B[0m \u001B[38;5;28;01mif\u001B[39;00m x\u001B[38;5;241m.\u001B[39msize \u001B[38;5;241m==\u001B[39m \u001B[38;5;241m0\u001B[39m:\n\u001B[0;32m    186\u001B[0m     \u001B[38;5;28;01mreturn\u001B[39;00m x\n",
      "\u001B[1;31mIndexError\u001B[0m: Index dimension must be 1 or 2"
     ]
    }
   ],
   "source": [
    "X_train[5]['message']"
   ]
  },
  {
   "cell_type": "code",
   "execution_count": null,
   "outputs": [],
   "source": [],
   "metadata": {
    "collapsed": false
   }
  }
 ],
 "metadata": {
  "kernelspec": {
   "display_name": "Python 3",
   "language": "python",
   "name": "python3"
  },
  "language_info": {
   "codemirror_mode": {
    "name": "ipython",
    "version": 3
   },
   "file_extension": ".py",
   "mimetype": "text/x-python",
   "name": "python",
   "nbconvert_exporter": "python",
   "pygments_lexer": "ipython3",
   "version": "3.8.5"
  }
 },
 "nbformat": 4,
 "nbformat_minor": 2
}
