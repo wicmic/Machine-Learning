{
 "cells": [
  {
   "cell_type": "markdown",
   "metadata": {},
   "source": [
    "# One versus All / One versus One\n",
    "### Mehrere Klassen in der Logistischen Regression, die ja eigentlich binär ist"
   ]
  },
  {
   "cell_type": "code",
   "execution_count": 1,
   "metadata": {},
   "outputs": [
    {
     "data": {
      "text/plain": "                                product_name                   brands  \\\n0       Apple, Beetroot & Blackcurrant Juice          Marks & Spencer   \n1  Freezed Orange Juice with Mango and Apple          Marks & Spencer   \n2                Pressed British Apple Juice      M&S,Marks & Spencer   \n3                          Juicy Juice Apple                   Nestlé   \n4                                Apple Juice  Tree Top, Tree Top Inc.   \n\n            countries  energy_100g  fat_100g  carbohydrates_100g  sugars_100g  \\\n0  France,Royaume-Uni        188.0       0.1                10.5         10.1   \n1  France,Royaume-Uni        237.0       0.4                11.5         10.4   \n2  France,Royaume-Uni        201.0       0.1                10.4         10.4   \n3       United States        201.0       0.0                12.0         11.2   \n4       United States        209.0       0.0                12.1         10.8   \n\n   proteins_100g   clss  \n0            0.4  Apple  \n1            0.9  Apple  \n2            0.1  Apple  \n3            0.0  Apple  \n4            0.0  Apple  ",
      "text/html": "<div>\n<style scoped>\n    .dataframe tbody tr th:only-of-type {\n        vertical-align: middle;\n    }\n\n    .dataframe tbody tr th {\n        vertical-align: top;\n    }\n\n    .dataframe thead th {\n        text-align: right;\n    }\n</style>\n<table border=\"1\" class=\"dataframe\">\n  <thead>\n    <tr style=\"text-align: right;\">\n      <th></th>\n      <th>product_name</th>\n      <th>brands</th>\n      <th>countries</th>\n      <th>energy_100g</th>\n      <th>fat_100g</th>\n      <th>carbohydrates_100g</th>\n      <th>sugars_100g</th>\n      <th>proteins_100g</th>\n      <th>clss</th>\n    </tr>\n  </thead>\n  <tbody>\n    <tr>\n      <th>0</th>\n      <td>Apple, Beetroot &amp; Blackcurrant Juice</td>\n      <td>Marks &amp; Spencer</td>\n      <td>France,Royaume-Uni</td>\n      <td>188.0</td>\n      <td>0.1</td>\n      <td>10.5</td>\n      <td>10.1</td>\n      <td>0.4</td>\n      <td>Apple</td>\n    </tr>\n    <tr>\n      <th>1</th>\n      <td>Freezed Orange Juice with Mango and Apple</td>\n      <td>Marks &amp; Spencer</td>\n      <td>France,Royaume-Uni</td>\n      <td>237.0</td>\n      <td>0.4</td>\n      <td>11.5</td>\n      <td>10.4</td>\n      <td>0.9</td>\n      <td>Apple</td>\n    </tr>\n    <tr>\n      <th>2</th>\n      <td>Pressed British Apple Juice</td>\n      <td>M&amp;S,Marks &amp; Spencer</td>\n      <td>France,Royaume-Uni</td>\n      <td>201.0</td>\n      <td>0.1</td>\n      <td>10.4</td>\n      <td>10.4</td>\n      <td>0.1</td>\n      <td>Apple</td>\n    </tr>\n    <tr>\n      <th>3</th>\n      <td>Juicy Juice Apple</td>\n      <td>Nestlé</td>\n      <td>United States</td>\n      <td>201.0</td>\n      <td>0.0</td>\n      <td>12.0</td>\n      <td>11.2</td>\n      <td>0.0</td>\n      <td>Apple</td>\n    </tr>\n    <tr>\n      <th>4</th>\n      <td>Apple Juice</td>\n      <td>Tree Top, Tree Top Inc.</td>\n      <td>United States</td>\n      <td>209.0</td>\n      <td>0.0</td>\n      <td>12.1</td>\n      <td>10.8</td>\n      <td>0.0</td>\n      <td>Apple</td>\n    </tr>\n  </tbody>\n</table>\n</div>"
     },
     "execution_count": 1,
     "metadata": {},
     "output_type": "execute_result"
    }
   ],
   "source": [
    "import pandas as pd\n",
    "\n",
    "df = pd.read_csv(\"data/foods.csv\")\n",
    "\n",
    "df.head()"
   ]
  },
  {
   "cell_type": "code",
   "execution_count": 2,
   "metadata": {},
   "outputs": [
    {
     "data": {
      "text/plain": "594"
     },
     "execution_count": 2,
     "metadata": {},
     "output_type": "execute_result"
    }
   ],
   "source": [
    "len(df)"
   ]
  },
  {
   "cell_type": "code",
   "execution_count": 3,
   "metadata": {},
   "outputs": [],
   "source": [
    "X = df[[\"energy_100g\", \"fat_100g\", \"carbohydrates_100g\", \"sugars_100g\", \"proteins_100g\"]].values\n",
    "y = df[\"clss\"].values"
   ]
  },
  {
   "cell_type": "code",
   "execution_count": 4,
   "metadata": {},
   "outputs": [],
   "source": [
    "from sklearn.model_selection import train_test_split\n",
    "\n",
    "X_train, X_test, y_train, y_test = train_test_split(X, y, test_size = 0.25, random_state = 42)\n",
    "\n",
    "from sklearn.preprocessing import StandardScaler\n",
    "\n",
    "s = StandardScaler()\n",
    "s.fit(X_train)\n",
    "\n",
    "X_train = s.transform(X_train)\n",
    "X_test = s.transform(X_test)"
   ]
  },
  {
   "cell_type": "code",
   "execution_count": 5,
   "metadata": {},
   "outputs": [
    {
     "name": "stdout",
     "output_type": "stream",
     "text": [
      "0.87248322147651\n"
     ]
    }
   ],
   "source": [
    "from sklearn.linear_model import LogisticRegression\n",
    "# One-vs-all: Den Parameter multi_class müssen wir auf \"ovr\" setzen!\n",
    "# Multinomial Logistic Regression \"multinomial\"\n",
    "# Automatische Wahl \"auto\" (Default)\n",
    "# One-vs-One andere Klasse OneVsOneClassifier, siehe unten!\n",
    "model = LogisticRegression(multi_class=\"ovr\")\n",
    "model.fit(X_train, y_train)\n",
    "\n",
    "print(model.score(X_test, y_test))"
   ]
  },
  {
   "cell_type": "code",
   "execution_count": 6,
   "outputs": [],
   "source": [
    "LogisticRegression?"
   ],
   "metadata": {
    "collapsed": false
   }
  },
  {
   "cell_type": "code",
   "execution_count": 7,
   "metadata": {},
   "outputs": [
    {
     "name": "stdout",
     "output_type": "stream",
     "text": [
      "0.8791946308724832\n"
     ]
    }
   ],
   "source": [
    "# One-vs-one\n",
    "from sklearn.multiclass import OneVsOneClassifier\n",
    "model = OneVsOneClassifier(LogisticRegression())\n",
    "model.fit(X_train, y_train)\n",
    "\n",
    "print(model.score(X_test, y_test))"
   ]
  },
  {
   "cell_type": "code",
   "execution_count": 8,
   "metadata": {},
   "outputs": [],
   "source": [
    "#bissle besser, aber das kann eine Schwankung sein..."
   ]
  }
 ],
 "metadata": {
  "kernelspec": {
   "display_name": "Python 3",
   "language": "python",
   "name": "python3"
  },
  "language_info": {
   "codemirror_mode": {
    "name": "ipython",
    "version": 3
   },
   "file_extension": ".py",
   "mimetype": "text/x-python",
   "name": "python",
   "nbconvert_exporter": "python",
   "pygments_lexer": "ipython3",
   "version": "3.8.5"
  }
 },
 "nbformat": 4,
 "nbformat_minor": 2
}
