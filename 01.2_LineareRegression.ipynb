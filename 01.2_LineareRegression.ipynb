{
 "cells": [
  {
   "cell_type": "markdown",
   "metadata": {},
   "source": [
    "# Lineare Regression\n",
    "### Beispiel: Zusammenhang Immobilenverkaufspreis und Qadratmeter"
   ]
  },
  {
   "cell_type": "code",
   "execution_count": 4,
   "metadata": {},
   "outputs": [],
   "source": [
    "import pandas as pd\n",
    "\n",
    "df = pd.read_csv(\"data/wohnungspreise.csv\")\n",
    "#df = pd.read_excel(\"./wohnungspreise.xlsx\")\n",
    "#df = pd.read_csv(\"xy.csv\", sep=\"\")\n",
    "#df = pd.read_csv(\"xy.csv\")\n"
   ]
  },
  {
   "cell_type": "code",
   "execution_count": 5,
   "metadata": {},
   "outputs": [
    {
     "data": {
      "text/plain": "    Quadratmeter  Verkaufspreis\n0             70         351000\n1             72         390000\n2             91         473000\n3             58         282000\n4             49         300000\n5             50         286000\n6             48         228000\n7             33         181000\n8             61         308000\n9             51         289000\n10            78         414000\n11            70         358000\n12            35         165000\n13            81         397000\n14            70         352000\n15            47         239000\n16            55         322000\n17            70         376000\n18            89         499000\n19            68         383000\n20            42         229000\n21            93         424000\n22            54         256000\n23            52         256000\n24            72         363000\n25            62         328000\n26            65         331000\n27            98         465000\n28            39         273000\n29            50         215000\n30            62         287000\n31            45         207000\n32            11           7000\n33            60         328000\n34            60         282000\n35            74         322000\n36            64         305000\n37            56         317000\n38            71         406000\n39            40         225000\n40            76         407000\n41            88         443000\n42            55         294000\n43            60         277000\n44            79         393000\n45           109         576000\n46            51         254000\n47            48         263000\n48            25         101000\n49            88         426000",
      "text/html": "<div>\n<style scoped>\n    .dataframe tbody tr th:only-of-type {\n        vertical-align: middle;\n    }\n\n    .dataframe tbody tr th {\n        vertical-align: top;\n    }\n\n    .dataframe thead th {\n        text-align: right;\n    }\n</style>\n<table border=\"1\" class=\"dataframe\">\n  <thead>\n    <tr style=\"text-align: right;\">\n      <th></th>\n      <th>Quadratmeter</th>\n      <th>Verkaufspreis</th>\n    </tr>\n  </thead>\n  <tbody>\n    <tr>\n      <th>0</th>\n      <td>70</td>\n      <td>351000</td>\n    </tr>\n    <tr>\n      <th>1</th>\n      <td>72</td>\n      <td>390000</td>\n    </tr>\n    <tr>\n      <th>2</th>\n      <td>91</td>\n      <td>473000</td>\n    </tr>\n    <tr>\n      <th>3</th>\n      <td>58</td>\n      <td>282000</td>\n    </tr>\n    <tr>\n      <th>4</th>\n      <td>49</td>\n      <td>300000</td>\n    </tr>\n    <tr>\n      <th>5</th>\n      <td>50</td>\n      <td>286000</td>\n    </tr>\n    <tr>\n      <th>6</th>\n      <td>48</td>\n      <td>228000</td>\n    </tr>\n    <tr>\n      <th>7</th>\n      <td>33</td>\n      <td>181000</td>\n    </tr>\n    <tr>\n      <th>8</th>\n      <td>61</td>\n      <td>308000</td>\n    </tr>\n    <tr>\n      <th>9</th>\n      <td>51</td>\n      <td>289000</td>\n    </tr>\n    <tr>\n      <th>10</th>\n      <td>78</td>\n      <td>414000</td>\n    </tr>\n    <tr>\n      <th>11</th>\n      <td>70</td>\n      <td>358000</td>\n    </tr>\n    <tr>\n      <th>12</th>\n      <td>35</td>\n      <td>165000</td>\n    </tr>\n    <tr>\n      <th>13</th>\n      <td>81</td>\n      <td>397000</td>\n    </tr>\n    <tr>\n      <th>14</th>\n      <td>70</td>\n      <td>352000</td>\n    </tr>\n    <tr>\n      <th>15</th>\n      <td>47</td>\n      <td>239000</td>\n    </tr>\n    <tr>\n      <th>16</th>\n      <td>55</td>\n      <td>322000</td>\n    </tr>\n    <tr>\n      <th>17</th>\n      <td>70</td>\n      <td>376000</td>\n    </tr>\n    <tr>\n      <th>18</th>\n      <td>89</td>\n      <td>499000</td>\n    </tr>\n    <tr>\n      <th>19</th>\n      <td>68</td>\n      <td>383000</td>\n    </tr>\n    <tr>\n      <th>20</th>\n      <td>42</td>\n      <td>229000</td>\n    </tr>\n    <tr>\n      <th>21</th>\n      <td>93</td>\n      <td>424000</td>\n    </tr>\n    <tr>\n      <th>22</th>\n      <td>54</td>\n      <td>256000</td>\n    </tr>\n    <tr>\n      <th>23</th>\n      <td>52</td>\n      <td>256000</td>\n    </tr>\n    <tr>\n      <th>24</th>\n      <td>72</td>\n      <td>363000</td>\n    </tr>\n    <tr>\n      <th>25</th>\n      <td>62</td>\n      <td>328000</td>\n    </tr>\n    <tr>\n      <th>26</th>\n      <td>65</td>\n      <td>331000</td>\n    </tr>\n    <tr>\n      <th>27</th>\n      <td>98</td>\n      <td>465000</td>\n    </tr>\n    <tr>\n      <th>28</th>\n      <td>39</td>\n      <td>273000</td>\n    </tr>\n    <tr>\n      <th>29</th>\n      <td>50</td>\n      <td>215000</td>\n    </tr>\n    <tr>\n      <th>30</th>\n      <td>62</td>\n      <td>287000</td>\n    </tr>\n    <tr>\n      <th>31</th>\n      <td>45</td>\n      <td>207000</td>\n    </tr>\n    <tr>\n      <th>32</th>\n      <td>11</td>\n      <td>7000</td>\n    </tr>\n    <tr>\n      <th>33</th>\n      <td>60</td>\n      <td>328000</td>\n    </tr>\n    <tr>\n      <th>34</th>\n      <td>60</td>\n      <td>282000</td>\n    </tr>\n    <tr>\n      <th>35</th>\n      <td>74</td>\n      <td>322000</td>\n    </tr>\n    <tr>\n      <th>36</th>\n      <td>64</td>\n      <td>305000</td>\n    </tr>\n    <tr>\n      <th>37</th>\n      <td>56</td>\n      <td>317000</td>\n    </tr>\n    <tr>\n      <th>38</th>\n      <td>71</td>\n      <td>406000</td>\n    </tr>\n    <tr>\n      <th>39</th>\n      <td>40</td>\n      <td>225000</td>\n    </tr>\n    <tr>\n      <th>40</th>\n      <td>76</td>\n      <td>407000</td>\n    </tr>\n    <tr>\n      <th>41</th>\n      <td>88</td>\n      <td>443000</td>\n    </tr>\n    <tr>\n      <th>42</th>\n      <td>55</td>\n      <td>294000</td>\n    </tr>\n    <tr>\n      <th>43</th>\n      <td>60</td>\n      <td>277000</td>\n    </tr>\n    <tr>\n      <th>44</th>\n      <td>79</td>\n      <td>393000</td>\n    </tr>\n    <tr>\n      <th>45</th>\n      <td>109</td>\n      <td>576000</td>\n    </tr>\n    <tr>\n      <th>46</th>\n      <td>51</td>\n      <td>254000</td>\n    </tr>\n    <tr>\n      <th>47</th>\n      <td>48</td>\n      <td>263000</td>\n    </tr>\n    <tr>\n      <th>48</th>\n      <td>25</td>\n      <td>101000</td>\n    </tr>\n    <tr>\n      <th>49</th>\n      <td>88</td>\n      <td>426000</td>\n    </tr>\n  </tbody>\n</table>\n</div>"
     },
     "execution_count": 5,
     "metadata": {},
     "output_type": "execute_result"
    }
   ],
   "source": [
    "df\n",
    "#df"
   ]
  },
  {
   "cell_type": "code",
   "execution_count": 6,
   "metadata": {},
   "outputs": [
    {
     "data": {
      "text/plain": "0      70\n1      72\n2      91\n3      58\n4      49\n5      50\n6      48\n7      33\n8      61\n9      51\n10     78\n11     70\n12     35\n13     81\n14     70\n15     47\n16     55\n17     70\n18     89\n19     68\n20     42\n21     93\n22     54\n23     52\n24     72\n25     62\n26     65\n27     98\n28     39\n29     50\n30     62\n31     45\n32     11\n33     60\n34     60\n35     74\n36     64\n37     56\n38     71\n39     40\n40     76\n41     88\n42     55\n43     60\n44     79\n45    109\n46     51\n47     48\n48     25\n49     88\nName: Quadratmeter, dtype: int64"
     },
     "execution_count": 6,
     "metadata": {},
     "output_type": "execute_result"
    }
   ],
   "source": [
    "df[\"Quadratmeter\"]\n",
    "#df[[\"x\"]]"
   ]
  },
  {
   "cell_type": "code",
   "execution_count": 7,
   "metadata": {},
   "outputs": [
    {
     "data": {
      "text/plain": "<Figure size 640x480 with 1 Axes>",
      "image/png": "[encoded data removed]"
     },
     "metadata": {},
     "output_type": "display_data"
    }
   ],
   "source": [
    "%matplotlib inline\n",
    "import matplotlib.pyplot as plt\n",
    "#                  x                    y\n",
    "plt.plot([1,2,3,4,5], [1,4,9,16,25])\n",
    "plt.show()"
   ]
  },
  {
   "cell_type": "code",
   "execution_count": 8,
   "metadata": {},
   "outputs": [
    {
     "name": "stdout",
     "output_type": "stream",
     "text": [
      "b: Intercept: [3143.28481869]\n",
      "a: Coef: [[5071.35242619]]\n"
     ]
    }
   ],
   "source": [
    "from sklearn.linear_model import LinearRegression\n",
    "\n",
    "model = LinearRegression()\n",
    "model.fit(df[[\"Quadratmeter\"]], df[[\"Verkaufspreis\"]])\n",
    "\n",
    "print(\"b: Intercept: \" + str(model.intercept_))\n",
    "print(\"a: Coef: \" + str(model.coef_))"
   ]
  },
  {
   "cell_type": "code",
   "execution_count": 9,
   "metadata": {},
   "outputs": [],
   "source": [
    "# Verkaufspreis = 3143.28481869 + 5071.35242619 * Quadratmeter\n",
    "# y = 3143.28481869 + 5071.35242619 * x"
   ]
  },
  {
   "cell_type": "code",
   "execution_count": 10,
   "metadata": {},
   "outputs": [
    {
     "name": "stdout",
     "output_type": "stream",
     "text": [
      "307424.43039009\n"
     ]
    }
   ],
   "source": [
    "print(3143.28481869 + 5071.35242619 * 60)"
   ]
  },
  {
   "cell_type": "code",
   "execution_count": 11,
   "metadata": {},
   "outputs": [
    {
     "name": "stderr",
     "output_type": "stream",
     "text": [
      "C:\\Users\\michi\\OneDrive\\MSC DV\\Python\\venv\\lib\\site-packages\\sklearn\\base.py:420: UserWarning: X does not have valid feature names, but LinearRegression was fitted with feature names\n",
      "  warnings.warn(\n"
     ]
    },
    {
     "data": {
      "text/plain": "array([[307424.43039023]])"
     },
     "execution_count": 11,
     "metadata": {},
     "output_type": "execute_result"
    }
   ],
   "source": [
    "model.predict([[60]])"
   ]
  },
  {
   "cell_type": "code",
   "execution_count": 12,
   "metadata": {},
   "outputs": [
    {
     "name": "stderr",
     "output_type": "stream",
     "text": [
      "C:\\Users\\michi\\OneDrive\\MSC DV\\Python\\venv\\lib\\site-packages\\sklearn\\base.py:420: UserWarning: X does not have valid feature names, but LinearRegression was fitted with feature names\n",
      "  warnings.warn(\n"
     ]
    },
    {
     "data": {
      "text/plain": "array([[307424.43039023],\n       [312495.78281643],\n       [317567.13524262]])"
     },
     "execution_count": 12,
     "metadata": {},
     "output_type": "execute_result"
    }
   ],
   "source": [
    "model.predict([[60],[61], [62]])"
   ]
  },
  {
   "cell_type": "code",
   "execution_count": 13,
   "metadata": {},
   "outputs": [
    {
     "name": "stderr",
     "output_type": "stream",
     "text": [
      "C:\\Users\\michi\\OneDrive\\MSC DV\\Python\\venv\\lib\\site-packages\\sklearn\\base.py:420: UserWarning: X does not have valid feature names, but LinearRegression was fitted with feature names\n",
      "  warnings.warn(\n"
     ]
    }
   ],
   "source": [
    "min_x = min(df[\"Quadratmeter\"])\n",
    "max_x = max(df[\"Quadratmeter\"])\n",
    "\n",
    "predicted = model.predict([[min_x], [200]])"
   ]
  },
  {
   "cell_type": "code",
   "execution_count": 14,
   "metadata": {},
   "outputs": [
    {
     "data": {
      "text/plain": "<Figure size 640x480 with 1 Axes>",
      "image/png": "[encoded data removed]"
     },
     "metadata": {},
     "output_type": "display_data"
    }
   ],
   "source": [
    "%matplotlib inline\n",
    "import matplotlib.pyplot as plt\n",
    "\n",
    "plt.scatter(df[\"Quadratmeter\"], df[\"Verkaufspreis\"])\n",
    "plt.plot([min_x, 200], predicted, color = \"red\")\n",
    "\n",
    "plt.show()"
   ]
  },
  {
   "cell_type": "code",
   "execution_count": 15,
   "metadata": {},
   "outputs": [],
   "source": [
    "meineWohnung_qm = 65\n",
    "#***Preisprognose mit einer Funktion!?***"
   ]
  },
  {
   "cell_type": "code",
   "execution_count": 16,
   "metadata": {},
   "outputs": [],
   "source": [
    "def preisprognose(qm):\n",
    "    b = model.intercept_[0]\n",
    "    a = model.coef_[0][0]\n",
    "    return ((a * qm) + b)\n"
   ]
  },
  {
   "cell_type": "code",
   "execution_count": 17,
   "metadata": {},
   "outputs": [
    {
     "data": {
      "text/plain": "332781.1925211964"
     },
     "execution_count": 17,
     "metadata": {},
     "output_type": "execute_result"
    }
   ],
   "source": [
    "preisprognose(meineWohnung_qm)"
   ]
  },
  {
   "cell_type": "code",
   "execution_count": 18,
   "metadata": {},
   "outputs": [
    {
     "name": "stderr",
     "output_type": "stream",
     "text": [
      "C:\\Users\\michi\\OneDrive\\MSC DV\\Python\\venv\\lib\\site-packages\\sklearn\\base.py:420: UserWarning: X does not have valid feature names, but LinearRegression was fitted with feature names\n",
      "  warnings.warn(\n"
     ]
    },
    {
     "data": {
      "text/plain": "array([[312495.78281643]])"
     },
     "execution_count": 18,
     "metadata": {},
     "output_type": "execute_result"
    }
   ],
   "source": [
    "#wobei das noch einfacher geht:\n",
    "model.predict([[ 61 ]])"
   ]
  },
  {
   "cell_type": "code",
   "execution_count": 19,
   "metadata": {},
   "outputs": [],
   "source": [
    "def preisprognose(qm):\n",
    "    return model.predict([[ qm ]])[0][0]"
   ]
  },
  {
   "cell_type": "code",
   "execution_count": 20,
   "metadata": {},
   "outputs": [
    {
     "name": "stderr",
     "output_type": "stream",
     "text": [
      "C:\\Users\\michi\\OneDrive\\MSC DV\\Python\\venv\\lib\\site-packages\\sklearn\\base.py:420: UserWarning: X does not have valid feature names, but LinearRegression was fitted with feature names\n",
      "  warnings.warn(\n"
     ]
    },
    {
     "data": {
      "text/plain": "332781.1925211964"
     },
     "execution_count": 20,
     "metadata": {},
     "output_type": "execute_result"
    }
   ],
   "source": [
    "preisprognose(meineWohnung_qm)"
   ]
  },
  {
   "cell_type": "code",
   "execution_count": null,
   "metadata": {},
   "outputs": [],
   "source": []
  }
 ],
 "metadata": {
  "kernelspec": {
   "display_name": "Python 3",
   "language": "python",
   "name": "python3"
  },
  "language_info": {
   "codemirror_mode": {
    "name": "ipython",
    "version": 3
   },
   "file_extension": ".py",
   "mimetype": "text/x-python",
   "name": "python",
   "nbconvert_exporter": "python",
   "pygments_lexer": "ipython3",
   "version": "3.8.5"
  }
 },
 "nbformat": 4,
 "nbformat_minor": 2
}
